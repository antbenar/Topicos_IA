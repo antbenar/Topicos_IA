{
 "cells": [
  {
   "cell_type": "markdown",
   "metadata": {},
   "source": [
    "# Proyecto Parcial:\n",
    "## Predictor de casos confirmados y muertes por Covid-19 en Arequipa y en Perú\n",
    "### Autor: Anthony Benavides Arce"
   ]
  },
  {
   "cell_type": "code",
   "execution_count": 1,
   "metadata": {},
   "outputs": [],
   "source": [
    "##Funciones Auxiliares para guardar las imagenes ploteadas\n",
    "\n",
    "# Common imports\n",
    "import numpy as np\n",
    "import os\n",
    "import matplotlib\n",
    "import matplotlib.pyplot as plt\n",
    "import pandas  as pd\n",
    "\n",
    "# To support both python 2 and python 3\n",
    "from __future__ import division, print_function, unicode_literals\n",
    "\n",
    "# to make this notebook's output stable across runs\n",
    "np.random.seed(42)\n",
    "\n",
    "# To plot pretty figures\n",
    "%matplotlib inline\n",
    "plt.rcParams['axes.labelsize'] = 14\n",
    "plt.rcParams['xtick.labelsize'] = 12\n",
    "plt.rcParams['ytick.labelsize'] = 12\n",
    "\n",
    "# Where to save the figures\n",
    "PROJECT_ROOT_DIR = \".\"\n",
    "CHAPTER_ID = \"end_to_end_project\"\n",
    "IMAGES_PATH = os.path.join(PROJECT_ROOT_DIR, \"images\", CHAPTER_ID)\n",
    "\n",
    "def save_fig(fig_id, tight_layout=True, fig_extension=\"png\", resolution=300):\n",
    "    if not os.path.isdir(IMAGES_PATH):\n",
    "        os.makedirs(IMAGES_PATH)\n",
    "    path = os.path.join(IMAGES_PATH, fig_id + \".\" + fig_extension)\n",
    "    print(\"Saving figure\", fig_id)\n",
    "    if tight_layout:\n",
    "        plt.tight_layout()\n",
    "    plt.savefig(path, format=fig_extension, dpi=resolution)\n",
    "\n",
    "# Ignore useless warnings (see SciPy issue #5998)\n",
    "import warnings\n",
    "warnings.filterwarnings(action=\"ignore\", module=\"scipy\", message=\"^internal gelsd\")"
   ]
  },
  {
   "cell_type": "markdown",
   "metadata": {},
   "source": [
    "# Obteniendo los datos\n",
    "Los datos usados en este proyecto fueron obtenidos del siguiente repositorio: https://github.com/jmcastagnetto/covid-19-peru-data/blob/main/datos. Este repositorio cuenta con datos oficiales del MINSA, los cuales son libres de uso y actualizados."
   ]
  },
  {
   "cell_type": "markdown",
   "metadata": {},
   "source": [
    "Cargar el csv del link del repositorio de datos covid-19"
   ]
  },
  {
   "cell_type": "code",
   "execution_count": 2,
   "metadata": {},
   "outputs": [
    {
     "data": {
      "text/html": [
       "<div>\n",
       "<style scoped>\n",
       "    .dataframe tbody tr th:only-of-type {\n",
       "        vertical-align: middle;\n",
       "    }\n",
       "\n",
       "    .dataframe tbody tr th {\n",
       "        vertical-align: top;\n",
       "    }\n",
       "\n",
       "    .dataframe thead th {\n",
       "        text-align: right;\n",
       "    }\n",
       "</style>\n",
       "<table border=\"1\" class=\"dataframe\">\n",
       "  <thead>\n",
       "    <tr style=\"text-align: right;\">\n",
       "      <th></th>\n",
       "      <th>country</th>\n",
       "      <th>iso3c</th>\n",
       "      <th>region</th>\n",
       "      <th>date</th>\n",
       "      <th>confirmed</th>\n",
       "      <th>deaths</th>\n",
       "      <th>recovered</th>\n",
       "      <th>total_tests</th>\n",
       "      <th>negative_tests</th>\n",
       "      <th>pcr_test_positive</th>\n",
       "      <th>serological_test_positive</th>\n",
       "      <th>pcr_serological_test_positive</th>\n",
       "    </tr>\n",
       "  </thead>\n",
       "  <tbody>\n",
       "    <tr>\n",
       "      <th>5634</th>\n",
       "      <td>Peru</td>\n",
       "      <td>PER</td>\n",
       "      <td>San Martín</td>\n",
       "      <td>2020-10-20</td>\n",
       "      <td>20016.0</td>\n",
       "      <td>721.0</td>\n",
       "      <td>NaN</td>\n",
       "      <td>80729.0</td>\n",
       "      <td>60713.0</td>\n",
       "      <td>2755.0</td>\n",
       "      <td>17261.0</td>\n",
       "      <td>NaN</td>\n",
       "    </tr>\n",
       "    <tr>\n",
       "      <th>5635</th>\n",
       "      <td>Peru</td>\n",
       "      <td>PER</td>\n",
       "      <td>Tacna</td>\n",
       "      <td>2020-10-20</td>\n",
       "      <td>12762.0</td>\n",
       "      <td>225.0</td>\n",
       "      <td>NaN</td>\n",
       "      <td>68155.0</td>\n",
       "      <td>55393.0</td>\n",
       "      <td>1609.0</td>\n",
       "      <td>11153.0</td>\n",
       "      <td>NaN</td>\n",
       "    </tr>\n",
       "    <tr>\n",
       "      <th>5636</th>\n",
       "      <td>Peru</td>\n",
       "      <td>PER</td>\n",
       "      <td>Tumbes</td>\n",
       "      <td>2020-10-20</td>\n",
       "      <td>7974.0</td>\n",
       "      <td>313.0</td>\n",
       "      <td>NaN</td>\n",
       "      <td>33928.0</td>\n",
       "      <td>25954.0</td>\n",
       "      <td>697.0</td>\n",
       "      <td>7277.0</td>\n",
       "      <td>NaN</td>\n",
       "    </tr>\n",
       "    <tr>\n",
       "      <th>5637</th>\n",
       "      <td>Peru</td>\n",
       "      <td>PER</td>\n",
       "      <td>Ucayali</td>\n",
       "      <td>2020-10-20</td>\n",
       "      <td>17284.0</td>\n",
       "      <td>335.0</td>\n",
       "      <td>NaN</td>\n",
       "      <td>55955.0</td>\n",
       "      <td>38671.0</td>\n",
       "      <td>1036.0</td>\n",
       "      <td>16248.0</td>\n",
       "      <td>NaN</td>\n",
       "    </tr>\n",
       "    <tr>\n",
       "      <th>5638</th>\n",
       "      <td>Peru</td>\n",
       "      <td>PER</td>\n",
       "      <td>NaN</td>\n",
       "      <td>2020-10-20</td>\n",
       "      <td>874118.0</td>\n",
       "      <td>33875.0</td>\n",
       "      <td>788494.0</td>\n",
       "      <td>4270800.0</td>\n",
       "      <td>3396682.0</td>\n",
       "      <td>197840.0</td>\n",
       "      <td>676278.0</td>\n",
       "      <td>NaN</td>\n",
       "    </tr>\n",
       "  </tbody>\n",
       "</table>\n",
       "</div>"
      ],
      "text/plain": [
       "     country iso3c      region        date  confirmed   deaths  recovered  \\\n",
       "5634    Peru   PER  San Martín  2020-10-20    20016.0    721.0        NaN   \n",
       "5635    Peru   PER       Tacna  2020-10-20    12762.0    225.0        NaN   \n",
       "5636    Peru   PER      Tumbes  2020-10-20     7974.0    313.0        NaN   \n",
       "5637    Peru   PER     Ucayali  2020-10-20    17284.0    335.0        NaN   \n",
       "5638    Peru   PER         NaN  2020-10-20   874118.0  33875.0   788494.0   \n",
       "\n",
       "      total_tests  negative_tests  pcr_test_positive  \\\n",
       "5634      80729.0         60713.0             2755.0   \n",
       "5635      68155.0         55393.0             1609.0   \n",
       "5636      33928.0         25954.0              697.0   \n",
       "5637      55955.0         38671.0             1036.0   \n",
       "5638    4270800.0       3396682.0           197840.0   \n",
       "\n",
       "      serological_test_positive  pcr_serological_test_positive  \n",
       "5634                    17261.0                            NaN  \n",
       "5635                    11153.0                            NaN  \n",
       "5636                     7277.0                            NaN  \n",
       "5637                    16248.0                            NaN  \n",
       "5638                   676278.0                            NaN  "
      ]
     },
     "execution_count": 2,
     "metadata": {},
     "output_type": "execute_result"
    }
   ],
   "source": [
    "url = 'https://raw.githubusercontent.com/jmcastagnetto/covid-19-peru-data/main/datos/covid-19-peru-data.csv'\n",
    "covid_data = pd.read_csv(url)\n",
    "covid_data.tail()"
   ]
  },
  {
   "cell_type": "markdown",
   "metadata": {},
   "source": [
    "Mostrar un resumen de las columnas del conjunto de datos"
   ]
  },
  {
   "cell_type": "code",
   "execution_count": 3,
   "metadata": {},
   "outputs": [
    {
     "name": "stdout",
     "output_type": "stream",
     "text": [
      "<class 'pandas.core.frame.DataFrame'>\n",
      "RangeIndex: 5639 entries, 0 to 5638\n",
      "Data columns (total 12 columns):\n",
      " #   Column                         Non-Null Count  Dtype  \n",
      "---  ------                         --------------  -----  \n",
      " 0   country                        5639 non-null   object \n",
      " 1   iso3c                          5639 non-null   object \n",
      " 2   region                         5411 non-null   object \n",
      " 3   date                           5639 non-null   object \n",
      " 4   confirmed                      5483 non-null   float64\n",
      " 5   deaths                         4885 non-null   float64\n",
      " 6   recovered                      246 non-null    float64\n",
      " 7   total_tests                    4348 non-null   float64\n",
      " 8   negative_tests                 4380 non-null   float64\n",
      " 9   pcr_test_positive              4992 non-null   float64\n",
      " 10  serological_test_positive      4928 non-null   float64\n",
      " 11  pcr_serological_test_positive  24 non-null     float64\n",
      "dtypes: float64(8), object(4)\n",
      "memory usage: 528.8+ KB\n"
     ]
    }
   ],
   "source": [
    "covid_data.info()"
   ]
  },
  {
   "cell_type": "markdown",
   "metadata": {},
   "source": [
    "Descibir estadisticamente los datos "
   ]
  },
  {
   "cell_type": "code",
   "execution_count": 4,
   "metadata": {
    "scrolled": false
   },
   "outputs": [
    {
     "data": {
      "text/html": [
       "<div>\n",
       "<style scoped>\n",
       "    .dataframe tbody tr th:only-of-type {\n",
       "        vertical-align: middle;\n",
       "    }\n",
       "\n",
       "    .dataframe tbody tr th {\n",
       "        vertical-align: top;\n",
       "    }\n",
       "\n",
       "    .dataframe thead th {\n",
       "        text-align: right;\n",
       "    }\n",
       "</style>\n",
       "<table border=\"1\" class=\"dataframe\">\n",
       "  <thead>\n",
       "    <tr style=\"text-align: right;\">\n",
       "      <th></th>\n",
       "      <th>confirmed</th>\n",
       "      <th>deaths</th>\n",
       "      <th>recovered</th>\n",
       "      <th>total_tests</th>\n",
       "      <th>negative_tests</th>\n",
       "      <th>pcr_test_positive</th>\n",
       "      <th>serological_test_positive</th>\n",
       "      <th>pcr_serological_test_positive</th>\n",
       "    </tr>\n",
       "  </thead>\n",
       "  <tbody>\n",
       "    <tr>\n",
       "      <th>count</th>\n",
       "      <td>5483.000000</td>\n",
       "      <td>4885.000000</td>\n",
       "      <td>246.000000</td>\n",
       "      <td>4.348000e+03</td>\n",
       "      <td>4.380000e+03</td>\n",
       "      <td>4992.000000</td>\n",
       "      <td>4928.000000</td>\n",
       "      <td>24.000000</td>\n",
       "    </tr>\n",
       "    <tr>\n",
       "      <th>mean</th>\n",
       "      <td>27328.155025</td>\n",
       "      <td>1233.437257</td>\n",
       "      <td>226110.890244</td>\n",
       "      <td>1.797437e+05</td>\n",
       "      <td>1.444280e+05</td>\n",
       "      <td>7226.560096</td>\n",
       "      <td>22529.412135</td>\n",
       "      <td>34.583333</td>\n",
       "    </tr>\n",
       "    <tr>\n",
       "      <th>std</th>\n",
       "      <td>96261.308216</td>\n",
       "      <td>4169.730610</td>\n",
       "      <td>248623.584619</td>\n",
       "      <td>5.372008e+05</td>\n",
       "      <td>4.297397e+05</td>\n",
       "      <td>25808.318346</td>\n",
       "      <td>73991.646952</td>\n",
       "      <td>72.926358</td>\n",
       "    </tr>\n",
       "    <tr>\n",
       "      <th>min</th>\n",
       "      <td>1.000000</td>\n",
       "      <td>1.000000</td>\n",
       "      <td>1.000000</td>\n",
       "      <td>3.250000e+03</td>\n",
       "      <td>-2.767580e+05</td>\n",
       "      <td>1.000000</td>\n",
       "      <td>1.000000</td>\n",
       "      <td>1.000000</td>\n",
       "    </tr>\n",
       "    <tr>\n",
       "      <th>25%</th>\n",
       "      <td>600.500000</td>\n",
       "      <td>27.000000</td>\n",
       "      <td>6850.250000</td>\n",
       "      <td>2.332825e+04</td>\n",
       "      <td>1.945400e+04</td>\n",
       "      <td>178.000000</td>\n",
       "      <td>935.750000</td>\n",
       "      <td>1.750000</td>\n",
       "    </tr>\n",
       "    <tr>\n",
       "      <th>50%</th>\n",
       "      <td>4880.000000</td>\n",
       "      <td>197.000000</td>\n",
       "      <td>137141.500000</td>\n",
       "      <td>4.570750e+04</td>\n",
       "      <td>3.703600e+04</td>\n",
       "      <td>893.000000</td>\n",
       "      <td>5044.000000</td>\n",
       "      <td>3.000000</td>\n",
       "    </tr>\n",
       "    <tr>\n",
       "      <th>75%</th>\n",
       "      <td>15313.000000</td>\n",
       "      <td>706.000000</td>\n",
       "      <td>379910.750000</td>\n",
       "      <td>8.558750e+04</td>\n",
       "      <td>6.740300e+04</td>\n",
       "      <td>2573.500000</td>\n",
       "      <td>14068.000000</td>\n",
       "      <td>6.250000</td>\n",
       "    </tr>\n",
       "    <tr>\n",
       "      <th>max</th>\n",
       "      <td>874118.000000</td>\n",
       "      <td>33875.000000</td>\n",
       "      <td>788494.000000</td>\n",
       "      <td>4.270800e+06</td>\n",
       "      <td>3.396682e+06</td>\n",
       "      <td>197840.000000</td>\n",
       "      <td>676278.000000</td>\n",
       "      <td>231.000000</td>\n",
       "    </tr>\n",
       "  </tbody>\n",
       "</table>\n",
       "</div>"
      ],
      "text/plain": [
       "           confirmed        deaths      recovered   total_tests  \\\n",
       "count    5483.000000   4885.000000     246.000000  4.348000e+03   \n",
       "mean    27328.155025   1233.437257  226110.890244  1.797437e+05   \n",
       "std     96261.308216   4169.730610  248623.584619  5.372008e+05   \n",
       "min         1.000000      1.000000       1.000000  3.250000e+03   \n",
       "25%       600.500000     27.000000    6850.250000  2.332825e+04   \n",
       "50%      4880.000000    197.000000  137141.500000  4.570750e+04   \n",
       "75%     15313.000000    706.000000  379910.750000  8.558750e+04   \n",
       "max    874118.000000  33875.000000  788494.000000  4.270800e+06   \n",
       "\n",
       "       negative_tests  pcr_test_positive  serological_test_positive  \\\n",
       "count    4.380000e+03        4992.000000                4928.000000   \n",
       "mean     1.444280e+05        7226.560096               22529.412135   \n",
       "std      4.297397e+05       25808.318346               73991.646952   \n",
       "min     -2.767580e+05           1.000000                   1.000000   \n",
       "25%      1.945400e+04         178.000000                 935.750000   \n",
       "50%      3.703600e+04         893.000000                5044.000000   \n",
       "75%      6.740300e+04        2573.500000               14068.000000   \n",
       "max      3.396682e+06      197840.000000              676278.000000   \n",
       "\n",
       "       pcr_serological_test_positive  \n",
       "count                      24.000000  \n",
       "mean                       34.583333  \n",
       "std                        72.926358  \n",
       "min                         1.000000  \n",
       "25%                         1.750000  \n",
       "50%                         3.000000  \n",
       "75%                         6.250000  \n",
       "max                       231.000000  "
      ]
     },
     "execution_count": 4,
     "metadata": {},
     "output_type": "execute_result"
    }
   ],
   "source": [
    "covid_data.describe()"
   ]
  },
  {
   "cell_type": "markdown",
   "metadata": {},
   "source": [
    "Plotear histogramas de cada categoría que contiene el conjunto de datos"
   ]
  },
  {
   "cell_type": "markdown",
   "metadata": {},
   "source": [
    "# Preparando los datos\n",
    "Para realizar este proceso seguimos los siguientes pasos:\n",
    "<ol>\n",
    "    <li>Obtener solo los datos que nos interesan</li>\n",
    "    <li>Dividir los datos en conjuntos de datos de Perú y de Arequipa</li>\n",
    "    <li>Convertir los dias en un formato que se pueda manipular facilmente</li>\n",
    "    <li>Rellenar los datos de muertes y confirmados faltantes</li>\n",
    "    <li>Rellenar los datos de las pruebas totales faltantes (Esto es para generar un segundo enfoque con diferentes datos, empleando los tests totales, ya que estos tienen un comportamiento expnencial)</li>\n",
    "    <li>Crear Tasas sinteticas de crecimiento de los casos confirmados y de los decesos de covid en Perú y Arequipa</li>\n",
    "</ol>"
   ]
  },
  {
   "cell_type": "markdown",
   "metadata": {},
   "source": [
    "### 1. Obtener solo los datos que nos interesan\n",
    "Para hacer la tarea de regresión solo usaremos los datos que nos conciernen los cuales son:\n",
    " <ul>\n",
    "    <li>Fecha (date)</li>\n",
    "    <li>Departamentos (region)</li>\n",
    "    <li>Casos confirmados (confirmed)</li>\n",
    "    <li>Personas fallecidas (deaths)</li>\n",
    " </ul>"
   ]
  },
  {
   "cell_type": "code",
   "execution_count": 5,
   "metadata": {},
   "outputs": [],
   "source": [
    "#hacer una copia de los datos originales antes de modificarlos\n",
    "covid_data_backup = covid_data\n",
    "\n",
    "covid_data = covid_data.drop(['country','iso3c','recovered','negative_tests',\n",
    "                            'pcr_test_positive','serological_test_positive','pcr_serological_test_positive'], axis=1)"
   ]
  },
  {
   "cell_type": "markdown",
   "metadata": {},
   "source": [
    "Reordenar los datos de tal manera que total tests se encuentre en la segunda columna para facilitar la división de los datos más adelante."
   ]
  },
  {
   "cell_type": "code",
   "execution_count": 6,
   "metadata": {},
   "outputs": [],
   "source": [
    "columns_titles = [\"region\", \"date\", \"total_tests\", \"confirmed\",\"deaths\"]\n",
    "covid_data = covid_data.reindex(columns=columns_titles)"
   ]
  },
  {
   "cell_type": "code",
   "execution_count": 7,
   "metadata": {},
   "outputs": [
    {
     "data": {
      "text/html": [
       "<div>\n",
       "<style scoped>\n",
       "    .dataframe tbody tr th:only-of-type {\n",
       "        vertical-align: middle;\n",
       "    }\n",
       "\n",
       "    .dataframe tbody tr th {\n",
       "        vertical-align: top;\n",
       "    }\n",
       "\n",
       "    .dataframe thead th {\n",
       "        text-align: right;\n",
       "    }\n",
       "</style>\n",
       "<table border=\"1\" class=\"dataframe\">\n",
       "  <thead>\n",
       "    <tr style=\"text-align: right;\">\n",
       "      <th></th>\n",
       "      <th>region</th>\n",
       "      <th>date</th>\n",
       "      <th>total_tests</th>\n",
       "      <th>confirmed</th>\n",
       "      <th>deaths</th>\n",
       "    </tr>\n",
       "  </thead>\n",
       "  <tbody>\n",
       "    <tr>\n",
       "      <th>0</th>\n",
       "      <td>NaN</td>\n",
       "      <td>2020-03-06</td>\n",
       "      <td>NaN</td>\n",
       "      <td>1.0</td>\n",
       "      <td>NaN</td>\n",
       "    </tr>\n",
       "    <tr>\n",
       "      <th>1</th>\n",
       "      <td>NaN</td>\n",
       "      <td>2020-03-07</td>\n",
       "      <td>NaN</td>\n",
       "      <td>6.0</td>\n",
       "      <td>NaN</td>\n",
       "    </tr>\n",
       "    <tr>\n",
       "      <th>2</th>\n",
       "      <td>NaN</td>\n",
       "      <td>2020-03-09</td>\n",
       "      <td>NaN</td>\n",
       "      <td>9.0</td>\n",
       "      <td>NaN</td>\n",
       "    </tr>\n",
       "    <tr>\n",
       "      <th>3</th>\n",
       "      <td>NaN</td>\n",
       "      <td>2020-03-10</td>\n",
       "      <td>NaN</td>\n",
       "      <td>11.0</td>\n",
       "      <td>NaN</td>\n",
       "    </tr>\n",
       "    <tr>\n",
       "      <th>4</th>\n",
       "      <td>NaN</td>\n",
       "      <td>2020-03-11</td>\n",
       "      <td>NaN</td>\n",
       "      <td>17.0</td>\n",
       "      <td>NaN</td>\n",
       "    </tr>\n",
       "  </tbody>\n",
       "</table>\n",
       "</div>"
      ],
      "text/plain": [
       "  region        date  total_tests  confirmed  deaths\n",
       "0    NaN  2020-03-06          NaN        1.0     NaN\n",
       "1    NaN  2020-03-07          NaN        6.0     NaN\n",
       "2    NaN  2020-03-09          NaN        9.0     NaN\n",
       "3    NaN  2020-03-10          NaN       11.0     NaN\n",
       "4    NaN  2020-03-11          NaN       17.0     NaN"
      ]
     },
     "execution_count": 7,
     "metadata": {},
     "output_type": "execute_result"
    }
   ],
   "source": [
    "covid_data.head()"
   ]
  },
  {
   "cell_type": "code",
   "execution_count": 8,
   "metadata": {},
   "outputs": [
    {
     "data": {
      "text/html": [
       "<div>\n",
       "<style scoped>\n",
       "    .dataframe tbody tr th:only-of-type {\n",
       "        vertical-align: middle;\n",
       "    }\n",
       "\n",
       "    .dataframe tbody tr th {\n",
       "        vertical-align: top;\n",
       "    }\n",
       "\n",
       "    .dataframe thead th {\n",
       "        text-align: right;\n",
       "    }\n",
       "</style>\n",
       "<table border=\"1\" class=\"dataframe\">\n",
       "  <thead>\n",
       "    <tr style=\"text-align: right;\">\n",
       "      <th></th>\n",
       "      <th>index</th>\n",
       "      <th>region</th>\n",
       "      <th>date</th>\n",
       "      <th>total_tests</th>\n",
       "      <th>confirmed</th>\n",
       "      <th>deaths</th>\n",
       "    </tr>\n",
       "  </thead>\n",
       "  <tbody>\n",
       "    <tr>\n",
       "      <th>0</th>\n",
       "      <td>2000</td>\n",
       "      <td>Cajamarca</td>\n",
       "      <td>2020-06-07</td>\n",
       "      <td>20115.0</td>\n",
       "      <td>935.0</td>\n",
       "      <td>10.0</td>\n",
       "    </tr>\n",
       "    <tr>\n",
       "      <th>1</th>\n",
       "      <td>2001</td>\n",
       "      <td>Callao</td>\n",
       "      <td>2020-06-07</td>\n",
       "      <td>55541.0</td>\n",
       "      <td>13865.0</td>\n",
       "      <td>389.0</td>\n",
       "    </tr>\n",
       "    <tr>\n",
       "      <th>2</th>\n",
       "      <td>2002</td>\n",
       "      <td>Cusco</td>\n",
       "      <td>2020-06-07</td>\n",
       "      <td>23249.0</td>\n",
       "      <td>1229.0</td>\n",
       "      <td>4.0</td>\n",
       "    </tr>\n",
       "    <tr>\n",
       "      <th>3</th>\n",
       "      <td>2003</td>\n",
       "      <td>Huancavelica</td>\n",
       "      <td>2020-06-07</td>\n",
       "      <td>9647.0</td>\n",
       "      <td>528.0</td>\n",
       "      <td>4.0</td>\n",
       "    </tr>\n",
       "    <tr>\n",
       "      <th>4</th>\n",
       "      <td>2004</td>\n",
       "      <td>Huánuco</td>\n",
       "      <td>2020-06-07</td>\n",
       "      <td>12917.0</td>\n",
       "      <td>1176.0</td>\n",
       "      <td>16.0</td>\n",
       "    </tr>\n",
       "    <tr>\n",
       "      <th>...</th>\n",
       "      <td>...</td>\n",
       "      <td>...</td>\n",
       "      <td>...</td>\n",
       "      <td>...</td>\n",
       "      <td>...</td>\n",
       "      <td>...</td>\n",
       "    </tr>\n",
       "    <tr>\n",
       "      <th>3634</th>\n",
       "      <td>5634</td>\n",
       "      <td>San Martín</td>\n",
       "      <td>2020-10-20</td>\n",
       "      <td>80729.0</td>\n",
       "      <td>20016.0</td>\n",
       "      <td>721.0</td>\n",
       "    </tr>\n",
       "    <tr>\n",
       "      <th>3635</th>\n",
       "      <td>5635</td>\n",
       "      <td>Tacna</td>\n",
       "      <td>2020-10-20</td>\n",
       "      <td>68155.0</td>\n",
       "      <td>12762.0</td>\n",
       "      <td>225.0</td>\n",
       "    </tr>\n",
       "    <tr>\n",
       "      <th>3636</th>\n",
       "      <td>5636</td>\n",
       "      <td>Tumbes</td>\n",
       "      <td>2020-10-20</td>\n",
       "      <td>33928.0</td>\n",
       "      <td>7974.0</td>\n",
       "      <td>313.0</td>\n",
       "    </tr>\n",
       "    <tr>\n",
       "      <th>3637</th>\n",
       "      <td>5637</td>\n",
       "      <td>Ucayali</td>\n",
       "      <td>2020-10-20</td>\n",
       "      <td>55955.0</td>\n",
       "      <td>17284.0</td>\n",
       "      <td>335.0</td>\n",
       "    </tr>\n",
       "    <tr>\n",
       "      <th>3638</th>\n",
       "      <td>5638</td>\n",
       "      <td>NaN</td>\n",
       "      <td>2020-10-20</td>\n",
       "      <td>4270800.0</td>\n",
       "      <td>874118.0</td>\n",
       "      <td>33875.0</td>\n",
       "    </tr>\n",
       "  </tbody>\n",
       "</table>\n",
       "<p>3639 rows × 6 columns</p>\n",
       "</div>"
      ],
      "text/plain": [
       "      index        region        date  total_tests  confirmed   deaths\n",
       "0      2000     Cajamarca  2020-06-07      20115.0      935.0     10.0\n",
       "1      2001        Callao  2020-06-07      55541.0    13865.0    389.0\n",
       "2      2002         Cusco  2020-06-07      23249.0     1229.0      4.0\n",
       "3      2003  Huancavelica  2020-06-07       9647.0      528.0      4.0\n",
       "4      2004       Huánuco  2020-06-07      12917.0     1176.0     16.0\n",
       "...     ...           ...         ...          ...        ...      ...\n",
       "3634   5634    San Martín  2020-10-20      80729.0    20016.0    721.0\n",
       "3635   5635         Tacna  2020-10-20      68155.0    12762.0    225.0\n",
       "3636   5636        Tumbes  2020-10-20      33928.0     7974.0    313.0\n",
       "3637   5637       Ucayali  2020-10-20      55955.0    17284.0    335.0\n",
       "3638   5638           NaN  2020-10-20    4270800.0   874118.0  33875.0\n",
       "\n",
       "[3639 rows x 6 columns]"
      ]
     },
     "execution_count": 8,
     "metadata": {},
     "output_type": "execute_result"
    }
   ],
   "source": [
    "covid_data = covid_data.iloc[2000:,:]\n",
    "covid_data.reset_index()"
   ]
  },
  {
   "cell_type": "markdown",
   "metadata": {},
   "source": [
    "### 2. Dividiendo los datos\n",
    "\n",
    "<b>Dividir el conjunto de datos en solo los que corresponden a Arequipa y en su totalidad a Perú.</b>\n",
    "\n",
    "Los datos que se encuentran con Nan en la columna de la región es el acumulado de todas las regiones, por lo tanto son los casos de covid en el Perú."
   ]
  },
  {
   "cell_type": "code",
   "execution_count": 9,
   "metadata": {
    "scrolled": true
   },
   "outputs": [
    {
     "data": {
      "text/html": [
       "<div>\n",
       "<style scoped>\n",
       "    .dataframe tbody tr th:only-of-type {\n",
       "        vertical-align: middle;\n",
       "    }\n",
       "\n",
       "    .dataframe tbody tr th {\n",
       "        vertical-align: top;\n",
       "    }\n",
       "\n",
       "    .dataframe thead th {\n",
       "        text-align: right;\n",
       "    }\n",
       "</style>\n",
       "<table border=\"1\" class=\"dataframe\">\n",
       "  <thead>\n",
       "    <tr style=\"text-align: right;\">\n",
       "      <th></th>\n",
       "      <th>date</th>\n",
       "      <th>total_tests</th>\n",
       "      <th>confirmed</th>\n",
       "      <th>deaths</th>\n",
       "    </tr>\n",
       "  </thead>\n",
       "  <tbody>\n",
       "    <tr>\n",
       "      <th>2020</th>\n",
       "      <td>2020-06-07</td>\n",
       "      <td>1191956.0</td>\n",
       "      <td>196515.0</td>\n",
       "      <td>5465.0</td>\n",
       "    </tr>\n",
       "    <tr>\n",
       "      <th>2046</th>\n",
       "      <td>2020-06-08</td>\n",
       "      <td>1203985.0</td>\n",
       "      <td>199696.0</td>\n",
       "      <td>5571.0</td>\n",
       "    </tr>\n",
       "    <tr>\n",
       "      <th>2072</th>\n",
       "      <td>2020-06-09</td>\n",
       "      <td>1227691.0</td>\n",
       "      <td>203736.0</td>\n",
       "      <td>5738.0</td>\n",
       "    </tr>\n",
       "    <tr>\n",
       "      <th>2098</th>\n",
       "      <td>2020-06-10</td>\n",
       "      <td>1255756.0</td>\n",
       "      <td>208823.0</td>\n",
       "      <td>5903.0</td>\n",
       "    </tr>\n",
       "    <tr>\n",
       "      <th>2124</th>\n",
       "      <td>2020-06-11</td>\n",
       "      <td>1282478.0</td>\n",
       "      <td>214788.0</td>\n",
       "      <td>6109.0</td>\n",
       "    </tr>\n",
       "  </tbody>\n",
       "</table>\n",
       "</div>"
      ],
      "text/plain": [
       "            date  total_tests  confirmed  deaths\n",
       "2020  2020-06-07    1191956.0   196515.0  5465.0\n",
       "2046  2020-06-08    1203985.0   199696.0  5571.0\n",
       "2072  2020-06-09    1227691.0   203736.0  5738.0\n",
       "2098  2020-06-10    1255756.0   208823.0  5903.0\n",
       "2124  2020-06-11    1282478.0   214788.0  6109.0"
      ]
     },
     "execution_count": 9,
     "metadata": {},
     "output_type": "execute_result"
    }
   ],
   "source": [
    "data_peru = covid_data.loc[pd.isnull(covid_data['region'])]\n",
    "data_peru = data_peru.drop(['region'], axis=1)\n",
    "data_peru.head()"
   ]
  },
  {
   "cell_type": "code",
   "execution_count": 10,
   "metadata": {
    "scrolled": true
   },
   "outputs": [
    {
     "data": {
      "text/html": [
       "<div>\n",
       "<style scoped>\n",
       "    .dataframe tbody tr th:only-of-type {\n",
       "        vertical-align: middle;\n",
       "    }\n",
       "\n",
       "    .dataframe tbody tr th {\n",
       "        vertical-align: top;\n",
       "    }\n",
       "\n",
       "    .dataframe thead th {\n",
       "        text-align: right;\n",
       "    }\n",
       "</style>\n",
       "<table border=\"1\" class=\"dataframe\">\n",
       "  <thead>\n",
       "    <tr style=\"text-align: right;\">\n",
       "      <th></th>\n",
       "      <th>date</th>\n",
       "      <th>total_tests</th>\n",
       "      <th>confirmed</th>\n",
       "      <th>deaths</th>\n",
       "    </tr>\n",
       "  </thead>\n",
       "  <tbody>\n",
       "    <tr>\n",
       "      <th>2024</th>\n",
       "      <td>2020-06-08</td>\n",
       "      <td>71231.0</td>\n",
       "      <td>4494.0</td>\n",
       "      <td>65.0</td>\n",
       "    </tr>\n",
       "    <tr>\n",
       "      <th>2050</th>\n",
       "      <td>2020-06-09</td>\n",
       "      <td>72346.0</td>\n",
       "      <td>4566.0</td>\n",
       "      <td>71.0</td>\n",
       "    </tr>\n",
       "    <tr>\n",
       "      <th>2076</th>\n",
       "      <td>2020-06-10</td>\n",
       "      <td>46028.0</td>\n",
       "      <td>4620.0</td>\n",
       "      <td>81.0</td>\n",
       "    </tr>\n",
       "    <tr>\n",
       "      <th>2102</th>\n",
       "      <td>2020-06-11</td>\n",
       "      <td>74713.0</td>\n",
       "      <td>4764.0</td>\n",
       "      <td>85.0</td>\n",
       "    </tr>\n",
       "    <tr>\n",
       "      <th>2128</th>\n",
       "      <td>2020-06-12</td>\n",
       "      <td>76082.0</td>\n",
       "      <td>4881.0</td>\n",
       "      <td>95.0</td>\n",
       "    </tr>\n",
       "  </tbody>\n",
       "</table>\n",
       "</div>"
      ],
      "text/plain": [
       "            date  total_tests  confirmed  deaths\n",
       "2024  2020-06-08      71231.0     4494.0    65.0\n",
       "2050  2020-06-09      72346.0     4566.0    71.0\n",
       "2076  2020-06-10      46028.0     4620.0    81.0\n",
       "2102  2020-06-11      74713.0     4764.0    85.0\n",
       "2128  2020-06-12      76082.0     4881.0    95.0"
      ]
     },
     "execution_count": 10,
     "metadata": {},
     "output_type": "execute_result"
    }
   ],
   "source": [
    "data_aqp = covid_data.loc[covid_data['region'] == 'Arequipa']\n",
    "data_aqp = data_aqp.drop(['region'], axis=1)\n",
    "data_aqp.head()"
   ]
  },
  {
   "cell_type": "markdown",
   "metadata": {},
   "source": [
    "### 3. Convertir los dias en un formato que se pueda manipular facilmente\n",
    "La fecha está en formato string <b>2020-03-06</b>, por lo que para establecer una correlación temporal en los datos, la convertiremos a un valor entero. Y analizando mejor, sería mejor si enumeramos los días trancurridos desde el inicio de la pandemia, para que así la fecha tenga secuencialidad de un día para el otro, por lo que tendremos dos conjuntos de datos:\n",
    "<ul>\n",
    "    <li><b>covid_data:</b> Un conjunto de datos con las fechas transformadas a entero <b>2020-03-06</b> -> <b>20200306\t</b></li>\n",
    "    <li><b>covid_data_sequential:</b> Y otro conjunto de datos con una secuencialidad en los día iniciando desde el primer día de la pandemia en Perú.</li>\n",
    " </ul>"
   ]
  },
  {
   "cell_type": "code",
   "execution_count": 11,
   "metadata": {},
   "outputs": [],
   "source": [
    "#volvemos entero el dia en covid_data\n",
    "import datetime\n",
    "data_peru['date'] = pd.to_datetime(data_peru['date']).dt.strftime(\"%Y%m%d\").astype(int)\n",
    "data_aqp['date'] = pd.to_datetime(data_aqp['date']).dt.strftime(\"%Y%m%d\").astype(int)"
   ]
  },
  {
   "cell_type": "code",
   "execution_count": 12,
   "metadata": {},
   "outputs": [
    {
     "data": {
      "text/html": [
       "<div>\n",
       "<style scoped>\n",
       "    .dataframe tbody tr th:only-of-type {\n",
       "        vertical-align: middle;\n",
       "    }\n",
       "\n",
       "    .dataframe tbody tr th {\n",
       "        vertical-align: top;\n",
       "    }\n",
       "\n",
       "    .dataframe thead th {\n",
       "        text-align: right;\n",
       "    }\n",
       "</style>\n",
       "<table border=\"1\" class=\"dataframe\">\n",
       "  <thead>\n",
       "    <tr style=\"text-align: right;\">\n",
       "      <th></th>\n",
       "      <th>date</th>\n",
       "      <th>total_tests</th>\n",
       "      <th>confirmed</th>\n",
       "      <th>deaths</th>\n",
       "    </tr>\n",
       "  </thead>\n",
       "  <tbody>\n",
       "    <tr>\n",
       "      <th>2020</th>\n",
       "      <td>20200607</td>\n",
       "      <td>1191956.0</td>\n",
       "      <td>196515.0</td>\n",
       "      <td>5465.0</td>\n",
       "    </tr>\n",
       "    <tr>\n",
       "      <th>2046</th>\n",
       "      <td>20200608</td>\n",
       "      <td>1203985.0</td>\n",
       "      <td>199696.0</td>\n",
       "      <td>5571.0</td>\n",
       "    </tr>\n",
       "    <tr>\n",
       "      <th>2072</th>\n",
       "      <td>20200609</td>\n",
       "      <td>1227691.0</td>\n",
       "      <td>203736.0</td>\n",
       "      <td>5738.0</td>\n",
       "    </tr>\n",
       "    <tr>\n",
       "      <th>2098</th>\n",
       "      <td>20200610</td>\n",
       "      <td>1255756.0</td>\n",
       "      <td>208823.0</td>\n",
       "      <td>5903.0</td>\n",
       "    </tr>\n",
       "    <tr>\n",
       "      <th>2124</th>\n",
       "      <td>20200611</td>\n",
       "      <td>1282478.0</td>\n",
       "      <td>214788.0</td>\n",
       "      <td>6109.0</td>\n",
       "    </tr>\n",
       "  </tbody>\n",
       "</table>\n",
       "</div>"
      ],
      "text/plain": [
       "          date  total_tests  confirmed  deaths\n",
       "2020  20200607    1191956.0   196515.0  5465.0\n",
       "2046  20200608    1203985.0   199696.0  5571.0\n",
       "2072  20200609    1227691.0   203736.0  5738.0\n",
       "2098  20200610    1255756.0   208823.0  5903.0\n",
       "2124  20200611    1282478.0   214788.0  6109.0"
      ]
     },
     "execution_count": 12,
     "metadata": {},
     "output_type": "execute_result"
    }
   ],
   "source": [
    "data_peru.head()"
   ]
  },
  {
   "cell_type": "markdown",
   "metadata": {},
   "source": [
    "Verificamos la efectividad de los cambios realizados empleando la scatter_matrix, cabe mencionar que <b>solo se estan mostrando los resultados de Perú</b>, debido a que el subconjunto de Arequipa presenta el mismo comportamiento."
   ]
  },
  {
   "cell_type": "code",
   "execution_count": 13,
   "metadata": {},
   "outputs": [
    {
     "name": "stdout",
     "output_type": "stream",
     "text": [
      "Saving figure scatter_matrix_plot\n"
     ]
    },
    {
     "data": {
      "image/png": "[encoded data removed]",
      "text/plain": [
       "<Figure size 864x576 with 9 Axes>"
      ]
     },
     "metadata": {
      "needs_background": "light"
     },
     "output_type": "display_data"
    }
   ],
   "source": [
    "from pandas.plotting import scatter_matrix\n",
    "\n",
    "attributes = [\"deaths\", \"confirmed\", \"date\"]\n",
    "scatter_matrix(data_peru[attributes], figsize=(12, 8), alpha=0.1)\n",
    "save_fig(\"scatter_matrix_plot\")"
   ]
  },
  {
   "cell_type": "markdown",
   "metadata": {},
   "source": [
    "Se observa de la matriz de dispersión que no hay una secuencialidad de los datos empleando la fecha en formato entero, así que para solucionar este problema usaremos <b>covid_data_sequential</b>, el cual funciona asignando una sequencialidad empezando desde el día número uno."
   ]
  },
  {
   "cell_type": "code",
   "execution_count": 14,
   "metadata": {},
   "outputs": [
    {
     "data": {
      "text/html": [
       "<div>\n",
       "<style scoped>\n",
       "    .dataframe tbody tr th:only-of-type {\n",
       "        vertical-align: middle;\n",
       "    }\n",
       "\n",
       "    .dataframe tbody tr th {\n",
       "        vertical-align: top;\n",
       "    }\n",
       "\n",
       "    .dataframe thead th {\n",
       "        text-align: right;\n",
       "    }\n",
       "</style>\n",
       "<table border=\"1\" class=\"dataframe\">\n",
       "  <thead>\n",
       "    <tr style=\"text-align: right;\">\n",
       "      <th></th>\n",
       "      <th>date</th>\n",
       "      <th>total_tests</th>\n",
       "      <th>confirmed</th>\n",
       "      <th>deaths</th>\n",
       "    </tr>\n",
       "  </thead>\n",
       "  <tbody>\n",
       "    <tr>\n",
       "      <th>2020</th>\n",
       "      <td>0</td>\n",
       "      <td>1191956.0</td>\n",
       "      <td>196515.0</td>\n",
       "      <td>5465.0</td>\n",
       "    </tr>\n",
       "    <tr>\n",
       "      <th>2046</th>\n",
       "      <td>1</td>\n",
       "      <td>1203985.0</td>\n",
       "      <td>199696.0</td>\n",
       "      <td>5571.0</td>\n",
       "    </tr>\n",
       "    <tr>\n",
       "      <th>2072</th>\n",
       "      <td>2</td>\n",
       "      <td>1227691.0</td>\n",
       "      <td>203736.0</td>\n",
       "      <td>5738.0</td>\n",
       "    </tr>\n",
       "    <tr>\n",
       "      <th>2098</th>\n",
       "      <td>3</td>\n",
       "      <td>1255756.0</td>\n",
       "      <td>208823.0</td>\n",
       "      <td>5903.0</td>\n",
       "    </tr>\n",
       "    <tr>\n",
       "      <th>2124</th>\n",
       "      <td>4</td>\n",
       "      <td>1282478.0</td>\n",
       "      <td>214788.0</td>\n",
       "      <td>6109.0</td>\n",
       "    </tr>\n",
       "  </tbody>\n",
       "</table>\n",
       "</div>"
      ],
      "text/plain": [
       "      date  total_tests  confirmed  deaths\n",
       "2020     0    1191956.0   196515.0  5465.0\n",
       "2046     1    1203985.0   199696.0  5571.0\n",
       "2072     2    1227691.0   203736.0  5738.0\n",
       "2098     3    1255756.0   208823.0  5903.0\n",
       "2124     4    1282478.0   214788.0  6109.0"
      ]
     },
     "execution_count": 14,
     "metadata": {},
     "output_type": "execute_result"
    }
   ],
   "source": [
    "data_peru['date'] = range(0, len(data_peru))\n",
    "data_aqp['date'] = range(0, len(data_aqp))\n",
    "data_peru.head()"
   ]
  },
  {
   "cell_type": "markdown",
   "metadata": {},
   "source": [
    "Volvemos ha realizar una verificación de los datos en la matriz de dispersión y se puede observar una sequencialidad mucho mayor en los datos, ya se observa el comportamiento exponencial que tienen los casos confirmados y las muertes"
   ]
  },
  {
   "cell_type": "code",
   "execution_count": 52,
   "metadata": {},
   "outputs": [
    {
     "name": "stdout",
     "output_type": "stream",
     "text": [
      "Saving figure scatter_matrix_plot\n"
     ]
    },
    {
     "data": {
      "image/png": "[encoded data removed]",
      "text/plain": [
       "<Figure size 864x576 with 9 Axes>"
      ]
     },
     "metadata": {
      "needs_background": "light"
     },
     "output_type": "display_data"
    }
   ],
   "source": [
    "from pandas.plotting import scatter_matrix\n",
    "\n",
    "attributes = [\"deaths\", \"confirmed\", \"date\"]\n",
    "scatter_matrix(data_peru[attributes], figsize=(12, 8), alpha=0.1)\n",
    "save_fig(\"scatter_matrix_plot\")"
   ]
  },
  {
   "cell_type": "code",
   "execution_count": 16,
   "metadata": {},
   "outputs": [
    {
     "name": "stdout",
     "output_type": "stream",
     "text": [
      "Saving figure scatter_matrix_plot\n"
     ]
    },
    {
     "data": {
      "image/png": "[encoded data removed]",
      "text/plain": [
       "<Figure size 864x576 with 16 Axes>"
      ]
     },
     "metadata": {
      "needs_background": "light"
     },
     "output_type": "display_data"
    }
   ],
   "source": [
    "from pandas.plotting import scatter_matrix\n",
    "\n",
    "attributes = [\"total_tests\", \"deaths\", \"confirmed\", \"date\"]\n",
    "scatter_matrix(data_aqp[attributes], figsize=(12, 8), alpha=0.1)\n",
    "save_fig(\"scatter_matrix_plot\")"
   ]
  },
  {
   "cell_type": "markdown",
   "metadata": {},
   "source": [
    "### 4. Rellenar los datos de muertes y confirmados faltantes\n",
    "\n",
    "En los datos de muertes de arequipa mostrados en la celda anterior, existen varios datos nan, cuando estos deberían ser un acumulado del día anterior, es por esto que rellenaremos esos datos con el último acumulado valido. Para esto, reemplazamos los nan de la columna de muertes con el valor 0 y posteriormente, este campo es llenado con el metodo ffill que lo rellena con el inmediato anterior."
   ]
  },
  {
   "cell_type": "code",
   "execution_count": 17,
   "metadata": {
    "scrolled": true
   },
   "outputs": [
    {
     "data": {
      "text/html": [
       "<div>\n",
       "<style scoped>\n",
       "    .dataframe tbody tr th:only-of-type {\n",
       "        vertical-align: middle;\n",
       "    }\n",
       "\n",
       "    .dataframe tbody tr th {\n",
       "        vertical-align: top;\n",
       "    }\n",
       "\n",
       "    .dataframe thead th {\n",
       "        text-align: right;\n",
       "    }\n",
       "</style>\n",
       "<table border=\"1\" class=\"dataframe\">\n",
       "  <thead>\n",
       "    <tr style=\"text-align: right;\">\n",
       "      <th></th>\n",
       "      <th>date</th>\n",
       "      <th>total_tests</th>\n",
       "      <th>confirmed</th>\n",
       "      <th>deaths</th>\n",
       "    </tr>\n",
       "  </thead>\n",
       "  <tbody>\n",
       "    <tr>\n",
       "      <th>2024</th>\n",
       "      <td>0</td>\n",
       "      <td>71231.0</td>\n",
       "      <td>4494.0</td>\n",
       "      <td>65.0</td>\n",
       "    </tr>\n",
       "    <tr>\n",
       "      <th>2050</th>\n",
       "      <td>1</td>\n",
       "      <td>72346.0</td>\n",
       "      <td>4566.0</td>\n",
       "      <td>71.0</td>\n",
       "    </tr>\n",
       "    <tr>\n",
       "      <th>2076</th>\n",
       "      <td>2</td>\n",
       "      <td>46028.0</td>\n",
       "      <td>4620.0</td>\n",
       "      <td>81.0</td>\n",
       "    </tr>\n",
       "    <tr>\n",
       "      <th>2102</th>\n",
       "      <td>3</td>\n",
       "      <td>74713.0</td>\n",
       "      <td>4764.0</td>\n",
       "      <td>85.0</td>\n",
       "    </tr>\n",
       "    <tr>\n",
       "      <th>2128</th>\n",
       "      <td>4</td>\n",
       "      <td>76082.0</td>\n",
       "      <td>4881.0</td>\n",
       "      <td>95.0</td>\n",
       "    </tr>\n",
       "    <tr>\n",
       "      <th>2154</th>\n",
       "      <td>5</td>\n",
       "      <td>77241.0</td>\n",
       "      <td>5002.0</td>\n",
       "      <td>106.0</td>\n",
       "    </tr>\n",
       "    <tr>\n",
       "      <th>2180</th>\n",
       "      <td>6</td>\n",
       "      <td>78475.0</td>\n",
       "      <td>5115.0</td>\n",
       "      <td>109.0</td>\n",
       "    </tr>\n",
       "    <tr>\n",
       "      <th>2206</th>\n",
       "      <td>7</td>\n",
       "      <td>79171.0</td>\n",
       "      <td>5195.0</td>\n",
       "      <td>115.0</td>\n",
       "    </tr>\n",
       "    <tr>\n",
       "      <th>2232</th>\n",
       "      <td>8</td>\n",
       "      <td>79895.0</td>\n",
       "      <td>5280.0</td>\n",
       "      <td>121.0</td>\n",
       "    </tr>\n",
       "    <tr>\n",
       "      <th>2258</th>\n",
       "      <td>9</td>\n",
       "      <td>81071.0</td>\n",
       "      <td>5336.0</td>\n",
       "      <td>134.0</td>\n",
       "    </tr>\n",
       "    <tr>\n",
       "      <th>2284</th>\n",
       "      <td>10</td>\n",
       "      <td>82140.0</td>\n",
       "      <td>5454.0</td>\n",
       "      <td>145.0</td>\n",
       "    </tr>\n",
       "    <tr>\n",
       "      <th>2310</th>\n",
       "      <td>11</td>\n",
       "      <td>83113.0</td>\n",
       "      <td>5533.0</td>\n",
       "      <td>154.0</td>\n",
       "    </tr>\n",
       "    <tr>\n",
       "      <th>2336</th>\n",
       "      <td>12</td>\n",
       "      <td>84469.0</td>\n",
       "      <td>5654.0</td>\n",
       "      <td>159.0</td>\n",
       "    </tr>\n",
       "    <tr>\n",
       "      <th>2362</th>\n",
       "      <td>13</td>\n",
       "      <td>85676.0</td>\n",
       "      <td>5744.0</td>\n",
       "      <td>166.0</td>\n",
       "    </tr>\n",
       "    <tr>\n",
       "      <th>2388</th>\n",
       "      <td>14</td>\n",
       "      <td>86752.0</td>\n",
       "      <td>5909.0</td>\n",
       "      <td>179.0</td>\n",
       "    </tr>\n",
       "    <tr>\n",
       "      <th>2414</th>\n",
       "      <td>15</td>\n",
       "      <td>87715.0</td>\n",
       "      <td>5981.0</td>\n",
       "      <td>188.0</td>\n",
       "    </tr>\n",
       "    <tr>\n",
       "      <th>2440</th>\n",
       "      <td>16</td>\n",
       "      <td>89219.0</td>\n",
       "      <td>6187.0</td>\n",
       "      <td>203.0</td>\n",
       "    </tr>\n",
       "    <tr>\n",
       "      <th>2466</th>\n",
       "      <td>17</td>\n",
       "      <td>90460.0</td>\n",
       "      <td>6411.0</td>\n",
       "      <td>209.0</td>\n",
       "    </tr>\n",
       "    <tr>\n",
       "      <th>2492</th>\n",
       "      <td>18</td>\n",
       "      <td>91705.0</td>\n",
       "      <td>6535.0</td>\n",
       "      <td>212.0</td>\n",
       "    </tr>\n",
       "    <tr>\n",
       "      <th>2518</th>\n",
       "      <td>19</td>\n",
       "      <td>92936.0</td>\n",
       "      <td>6682.0</td>\n",
       "      <td>225.0</td>\n",
       "    </tr>\n",
       "    <tr>\n",
       "      <th>2544</th>\n",
       "      <td>20</td>\n",
       "      <td>94458.0</td>\n",
       "      <td>6823.0</td>\n",
       "      <td>230.0</td>\n",
       "    </tr>\n",
       "    <tr>\n",
       "      <th>2570</th>\n",
       "      <td>21</td>\n",
       "      <td>95482.0</td>\n",
       "      <td>7076.0</td>\n",
       "      <td>245.0</td>\n",
       "    </tr>\n",
       "    <tr>\n",
       "      <th>2596</th>\n",
       "      <td>22</td>\n",
       "      <td>96477.0</td>\n",
       "      <td>7124.0</td>\n",
       "      <td>253.0</td>\n",
       "    </tr>\n",
       "    <tr>\n",
       "      <th>2622</th>\n",
       "      <td>23</td>\n",
       "      <td>97639.0</td>\n",
       "      <td>7234.0</td>\n",
       "      <td>264.0</td>\n",
       "    </tr>\n",
       "    <tr>\n",
       "      <th>2648</th>\n",
       "      <td>24</td>\n",
       "      <td>98697.0</td>\n",
       "      <td>7425.0</td>\n",
       "      <td>280.0</td>\n",
       "    </tr>\n",
       "    <tr>\n",
       "      <th>2674</th>\n",
       "      <td>25</td>\n",
       "      <td>99714.0</td>\n",
       "      <td>7545.0</td>\n",
       "      <td>290.0</td>\n",
       "    </tr>\n",
       "    <tr>\n",
       "      <th>2700</th>\n",
       "      <td>26</td>\n",
       "      <td>100727.0</td>\n",
       "      <td>7649.0</td>\n",
       "      <td>302.0</td>\n",
       "    </tr>\n",
       "    <tr>\n",
       "      <th>2726</th>\n",
       "      <td>27</td>\n",
       "      <td>101871.0</td>\n",
       "      <td>7807.0</td>\n",
       "      <td>309.0</td>\n",
       "    </tr>\n",
       "    <tr>\n",
       "      <th>2753</th>\n",
       "      <td>28</td>\n",
       "      <td>103201.0</td>\n",
       "      <td>7982.0</td>\n",
       "      <td>323.0</td>\n",
       "    </tr>\n",
       "    <tr>\n",
       "      <th>2780</th>\n",
       "      <td>29</td>\n",
       "      <td>104343.0</td>\n",
       "      <td>8073.0</td>\n",
       "      <td>333.0</td>\n",
       "    </tr>\n",
       "    <tr>\n",
       "      <th>2807</th>\n",
       "      <td>30</td>\n",
       "      <td>105094.0</td>\n",
       "      <td>8144.0</td>\n",
       "      <td>343.0</td>\n",
       "    </tr>\n",
       "    <tr>\n",
       "      <th>2834</th>\n",
       "      <td>31</td>\n",
       "      <td>106095.0</td>\n",
       "      <td>8374.0</td>\n",
       "      <td>356.0</td>\n",
       "    </tr>\n",
       "    <tr>\n",
       "      <th>2861</th>\n",
       "      <td>32</td>\n",
       "      <td>106922.0</td>\n",
       "      <td>8496.0</td>\n",
       "      <td>368.0</td>\n",
       "    </tr>\n",
       "    <tr>\n",
       "      <th>2888</th>\n",
       "      <td>33</td>\n",
       "      <td>108131.0</td>\n",
       "      <td>8724.0</td>\n",
       "      <td>390.0</td>\n",
       "    </tr>\n",
       "    <tr>\n",
       "      <th>2915</th>\n",
       "      <td>34</td>\n",
       "      <td>109517.0</td>\n",
       "      <td>8917.0</td>\n",
       "      <td>406.0</td>\n",
       "    </tr>\n",
       "    <tr>\n",
       "      <th>2942</th>\n",
       "      <td>35</td>\n",
       "      <td>110917.0</td>\n",
       "      <td>9252.0</td>\n",
       "      <td>427.0</td>\n",
       "    </tr>\n",
       "    <tr>\n",
       "      <th>2969</th>\n",
       "      <td>36</td>\n",
       "      <td>111670.0</td>\n",
       "      <td>9368.0</td>\n",
       "      <td>449.0</td>\n",
       "    </tr>\n",
       "    <tr>\n",
       "      <th>2996</th>\n",
       "      <td>37</td>\n",
       "      <td>112694.0</td>\n",
       "      <td>9560.0</td>\n",
       "      <td>474.0</td>\n",
       "    </tr>\n",
       "    <tr>\n",
       "      <th>3023</th>\n",
       "      <td>38</td>\n",
       "      <td>113755.0</td>\n",
       "      <td>9717.0</td>\n",
       "      <td>495.0</td>\n",
       "    </tr>\n",
       "    <tr>\n",
       "      <th>3050</th>\n",
       "      <td>39</td>\n",
       "      <td>114811.0</td>\n",
       "      <td>9939.0</td>\n",
       "      <td>508.0</td>\n",
       "    </tr>\n",
       "    <tr>\n",
       "      <th>3077</th>\n",
       "      <td>40</td>\n",
       "      <td>115483.0</td>\n",
       "      <td>10112.0</td>\n",
       "      <td>534.0</td>\n",
       "    </tr>\n",
       "    <tr>\n",
       "      <th>3104</th>\n",
       "      <td>41</td>\n",
       "      <td>116559.0</td>\n",
       "      <td>10318.0</td>\n",
       "      <td>555.0</td>\n",
       "    </tr>\n",
       "    <tr>\n",
       "      <th>3131</th>\n",
       "      <td>42</td>\n",
       "      <td>80293.0</td>\n",
       "      <td>10476.0</td>\n",
       "      <td>570.0</td>\n",
       "    </tr>\n",
       "    <tr>\n",
       "      <th>3158</th>\n",
       "      <td>43</td>\n",
       "      <td>118824.0</td>\n",
       "      <td>10676.0</td>\n",
       "      <td>585.0</td>\n",
       "    </tr>\n",
       "    <tr>\n",
       "      <th>3185</th>\n",
       "      <td>44</td>\n",
       "      <td>120542.0</td>\n",
       "      <td>11012.0</td>\n",
       "      <td>601.0</td>\n",
       "    </tr>\n",
       "    <tr>\n",
       "      <th>3212</th>\n",
       "      <td>45</td>\n",
       "      <td>122474.0</td>\n",
       "      <td>11504.0</td>\n",
       "      <td>628.0</td>\n",
       "    </tr>\n",
       "    <tr>\n",
       "      <th>3239</th>\n",
       "      <td>46</td>\n",
       "      <td>123591.0</td>\n",
       "      <td>11703.0</td>\n",
       "      <td>649.0</td>\n",
       "    </tr>\n",
       "    <tr>\n",
       "      <th>3266</th>\n",
       "      <td>47</td>\n",
       "      <td>NaN</td>\n",
       "      <td>11703.0</td>\n",
       "      <td>649.0</td>\n",
       "    </tr>\n",
       "    <tr>\n",
       "      <th>3293</th>\n",
       "      <td>48</td>\n",
       "      <td>NaN</td>\n",
       "      <td>11703.0</td>\n",
       "      <td>649.0</td>\n",
       "    </tr>\n",
       "    <tr>\n",
       "      <th>3320</th>\n",
       "      <td>49</td>\n",
       "      <td>127607.0</td>\n",
       "      <td>12699.0</td>\n",
       "      <td>696.0</td>\n",
       "    </tr>\n",
       "  </tbody>\n",
       "</table>\n",
       "</div>"
      ],
      "text/plain": [
       "      date  total_tests  confirmed  deaths\n",
       "2024     0      71231.0     4494.0    65.0\n",
       "2050     1      72346.0     4566.0    71.0\n",
       "2076     2      46028.0     4620.0    81.0\n",
       "2102     3      74713.0     4764.0    85.0\n",
       "2128     4      76082.0     4881.0    95.0\n",
       "2154     5      77241.0     5002.0   106.0\n",
       "2180     6      78475.0     5115.0   109.0\n",
       "2206     7      79171.0     5195.0   115.0\n",
       "2232     8      79895.0     5280.0   121.0\n",
       "2258     9      81071.0     5336.0   134.0\n",
       "2284    10      82140.0     5454.0   145.0\n",
       "2310    11      83113.0     5533.0   154.0\n",
       "2336    12      84469.0     5654.0   159.0\n",
       "2362    13      85676.0     5744.0   166.0\n",
       "2388    14      86752.0     5909.0   179.0\n",
       "2414    15      87715.0     5981.0   188.0\n",
       "2440    16      89219.0     6187.0   203.0\n",
       "2466    17      90460.0     6411.0   209.0\n",
       "2492    18      91705.0     6535.0   212.0\n",
       "2518    19      92936.0     6682.0   225.0\n",
       "2544    20      94458.0     6823.0   230.0\n",
       "2570    21      95482.0     7076.0   245.0\n",
       "2596    22      96477.0     7124.0   253.0\n",
       "2622    23      97639.0     7234.0   264.0\n",
       "2648    24      98697.0     7425.0   280.0\n",
       "2674    25      99714.0     7545.0   290.0\n",
       "2700    26     100727.0     7649.0   302.0\n",
       "2726    27     101871.0     7807.0   309.0\n",
       "2753    28     103201.0     7982.0   323.0\n",
       "2780    29     104343.0     8073.0   333.0\n",
       "2807    30     105094.0     8144.0   343.0\n",
       "2834    31     106095.0     8374.0   356.0\n",
       "2861    32     106922.0     8496.0   368.0\n",
       "2888    33     108131.0     8724.0   390.0\n",
       "2915    34     109517.0     8917.0   406.0\n",
       "2942    35     110917.0     9252.0   427.0\n",
       "2969    36     111670.0     9368.0   449.0\n",
       "2996    37     112694.0     9560.0   474.0\n",
       "3023    38     113755.0     9717.0   495.0\n",
       "3050    39     114811.0     9939.0   508.0\n",
       "3077    40     115483.0    10112.0   534.0\n",
       "3104    41     116559.0    10318.0   555.0\n",
       "3131    42      80293.0    10476.0   570.0\n",
       "3158    43     118824.0    10676.0   585.0\n",
       "3185    44     120542.0    11012.0   601.0\n",
       "3212    45     122474.0    11504.0   628.0\n",
       "3239    46     123591.0    11703.0   649.0\n",
       "3266    47          NaN    11703.0   649.0\n",
       "3293    48          NaN    11703.0   649.0\n",
       "3320    49     127607.0    12699.0   696.0"
      ]
     },
     "execution_count": 17,
     "metadata": {},
     "output_type": "execute_result"
    }
   ],
   "source": [
    "#decesos\n",
    "data_peru['deaths'].fillna(0, inplace=True)\n",
    "data_aqp['deaths'].fillna(0, inplace=True)\n",
    "\n",
    "data_peru['deaths'].replace(0, method='ffill', inplace=True)\n",
    "data_aqp['deaths'].replace(0, method='ffill', inplace=True)\n",
    "\n",
    "#confirmados\n",
    "data_peru['confirmed'].fillna(0, inplace=True)\n",
    "data_aqp['confirmed'].fillna(0, inplace=True)\n",
    "\n",
    "data_peru['confirmed'].replace(0, method='ffill', inplace=True)\n",
    "data_aqp['confirmed'].replace(0, method='ffill', inplace=True)\n",
    "\n",
    "data_aqp.head(50)"
   ]
  },
  {
   "cell_type": "markdown",
   "metadata": {},
   "source": [
    "### 5. Rellenar los datos de las pruebas totales faltantes\n",
    "\n",
    "Como se puede observar, las pruebas totales no se encuentran en su totalidad en el dataset, por lo que lo que haremos será generar de manera sintética estos valores. Para ello calcularemos una relación entre los casos confirmados y los días transcurridos."
   ]
  },
  {
   "cell_type": "markdown",
   "metadata": {},
   "source": [
    "Calcular la tasa de crecimiento de los tests"
   ]
  },
  {
   "cell_type": "code",
   "execution_count": 18,
   "metadata": {
    "scrolled": true
   },
   "outputs": [
    {
     "data": {
      "text/plain": [
       "<matplotlib.legend.Legend at 0x99dc84cbb0>"
      ]
     },
     "execution_count": 18,
     "metadata": {},
     "output_type": "execute_result"
    },
    {
     "data": {
      "image/png": "[encoded data removed]",
      "text/plain": [
       "<Figure size 1080x360 with 2 Axes>"
      ]
     },
     "metadata": {
      "needs_background": "light"
     },
     "output_type": "display_data"
    }
   ],
   "source": [
    "### ==================== Peru\n",
    "crecimiento_tests_peru = np.ones(len(data_peru) - 1)\n",
    "for i in range(1,len(data_peru)):\n",
    "    crecimiento_tests_peru[i-1] = data_peru.iloc[i,1] / data_peru.iloc[i-1,1]\n",
    "\n",
    "#obtener la tasa de crecimiento para aquellos datos que no cuenten con esta segun los dos datos posteriores\n",
    "indices = np.where(np.isnan(crecimiento_tests_peru))\n",
    "for idx in reversed(indices[0]):\n",
    "    crecimiento_tests_peru[idx] = 2*crecimiento_tests_peru[idx+1] - crecimiento_tests_peru[idx+2]\n",
    "\n",
    "### ======================= Arequipa\n",
    "crecimiento_tests_aqp = np.ones(len(data_aqp) - 1)\n",
    "for i in range(1,len(data_aqp)):\n",
    "    crecimiento_tests_aqp[i-1] = data_aqp.iloc[i,1] / data_aqp.iloc[i-1,1]\n",
    "\n",
    "#obtener la tasa de crecimiento para aquellos datos que no cuenten con esta segun los dos datos posteriores\n",
    "indices = np.where(np.isnan(crecimiento_tests_aqp))\n",
    "for idx in reversed(indices[0]):\n",
    "    crecimiento_tests_aqp[idx] = 2*crecimiento_tests_aqp[idx+1] - crecimiento_tests_aqp[idx+2]\n",
    "#print(crecimiento_tests_aqp)\n",
    "    \n",
    "\n",
    "#plotear casos confirmados \n",
    "fig, ax = plt.subplots(1, 2, figsize=(15,5))\n",
    "ax[0].plot(crecimiento_tests_peru, label='Tasa predicha')\n",
    "ax[0].set_title(\"Tasa de los test Totales / Dia - Perú\")\n",
    "ax[0].set_ylabel('Tasa de los test Totales')\n",
    "ax[0].set_xlabel('Dias')\n",
    "ax[0].legend()\n",
    "\n",
    "ax[1].plot(crecimiento_tests_aqp, label='Tasa predicha')\n",
    "ax[1].set_title(\"Tasa de los test Totales / Dia - Arequipa\")\n",
    "ax[1].set_ylabel('Tasa de los test Totales')\n",
    "ax[1].set_xlabel('Dias')\n",
    "ax[1].legend()\n",
    "\n",
    "#np.savetxt(\"data_peru.csv\", data_peru, delimiter=\",\")\n",
    "#np.savetxt(\"data_aqp.csv\", data_aqp, delimiter=\",\")"
   ]
  },
  {
   "cell_type": "markdown",
   "metadata": {},
   "source": [
    "Observamos un comportamiento ruidoso en el conjunto de datos de Arequipa, esto es debido a que no se encuentran los tests como deberían.\n",
    "A continuación, crearemos un conjunto de datos nuevo, en el cual adicionamos los tests predichos. Los puntos rojos son datos sinteticos y los datos azules son los datos reales."
   ]
  },
  {
   "cell_type": "code",
   "execution_count": 19,
   "metadata": {
    "scrolled": true
   },
   "outputs": [
    {
     "data": {
      "text/plain": [
       "<matplotlib.legend.Legend at 0x99de9ac550>"
      ]
     },
     "execution_count": 19,
     "metadata": {},
     "output_type": "execute_result"
    },
    {
     "data": {
      "image/png": "[encoded data removed]",
      "text/plain": [
       "<Figure size 1080x360 with 2 Axes>"
      ]
     },
     "metadata": {
      "needs_background": "light"
     },
     "output_type": "display_data"
    }
   ],
   "source": [
    "#datos de peru\n",
    "data_peru_testCovid = data_peru.copy()\n",
    "\n",
    "indices = np.where(np.isnan(data_peru_testCovid['total_tests']))\n",
    "for idx in reversed(indices[0]):\n",
    "    data_peru_testCovid.iloc[idx,1] = data_peru_testCovid.iloc[idx+1,1]  / crecimiento_tests_peru[idx]\n",
    "    \n",
    "\n",
    "#datos de aqp\n",
    "data_aqp_testCovid = data_aqp.copy()\n",
    "indices = np.where(np.isnan(data_aqp_testCovid['total_tests']))\n",
    "for idx in reversed(indices[0]):\n",
    "    data_aqp_testCovid.iloc[idx,1] = data_aqp_testCovid.iloc[idx+1,1]  / crecimiento_tests_aqp[idx]\n",
    "\n",
    "#plotear casos confirmados \n",
    "fig, ax = plt.subplots(1, 2, figsize=(15,5))\n",
    "ax[0].plot(data_peru_testCovid.iloc[:32,0], data_peru_testCovid.iloc[:32,1], c=\"red\", label='Tasa predicha')\n",
    "ax[0].plot(data_peru_testCovid.iloc[31:,0], data_peru_testCovid.iloc[31:,1], c=\"blue\", label='Tasa real')\n",
    "ax[0].set_title(\"Tasa de los test Totales / Dia - Peru\")\n",
    "ax[0].set_ylabel('Tasa de los test Totales')\n",
    "ax[0].set_xlabel('Dias')\n",
    "ax[0].legend()\n",
    "\n",
    "ax[1].plot(data_aqp_testCovid.iloc[:32,0], data_aqp_testCovid.iloc[:32,1], c=\"red\", label='Tasa predicha')\n",
    "ax[1].plot(data_aqp_testCovid.iloc[31:,0], data_aqp_testCovid.iloc[31:,1], c=\"blue\", label='Tasa real')\n",
    "ax[1].set_title(\"Tasa de los test Totales / Dia - Aqp\")\n",
    "ax[1].set_ylabel('Tasa de los test Totales')\n",
    "ax[1].set_xlabel('Dias')\n",
    "ax[1].legend()"
   ]
  },
  {
   "cell_type": "markdown",
   "metadata": {},
   "source": [
    "### 6. Crear Tasas sinteticas de crecimiento de los casos confirmados y de los decesos de covid en Perú y Arequipa\n",
    "\n",
    "Para tener una predicción que se asemeje a un comportamiento exponencial, emplearemos la correlación entre los datos más cercanos entre sí ya sean de los casos confirmados o de los decesos."
   ]
  },
  {
   "cell_type": "code",
   "execution_count": 20,
   "metadata": {
    "scrolled": true
   },
   "outputs": [
    {
     "data": {
      "text/html": [
       "<div>\n",
       "<style scoped>\n",
       "    .dataframe tbody tr th:only-of-type {\n",
       "        vertical-align: middle;\n",
       "    }\n",
       "\n",
       "    .dataframe tbody tr th {\n",
       "        vertical-align: top;\n",
       "    }\n",
       "\n",
       "    .dataframe thead th {\n",
       "        text-align: right;\n",
       "    }\n",
       "</style>\n",
       "<table border=\"1\" class=\"dataframe\">\n",
       "  <thead>\n",
       "    <tr style=\"text-align: right;\">\n",
       "      <th></th>\n",
       "      <th>date</th>\n",
       "      <th>total_tests</th>\n",
       "      <th>confirmed</th>\n",
       "      <th>deaths</th>\n",
       "    </tr>\n",
       "  </thead>\n",
       "  <tbody>\n",
       "    <tr>\n",
       "      <th>2020</th>\n",
       "      <td>0</td>\n",
       "      <td>1191956.0</td>\n",
       "      <td>196515.0</td>\n",
       "      <td>5465.0</td>\n",
       "    </tr>\n",
       "    <tr>\n",
       "      <th>2046</th>\n",
       "      <td>1</td>\n",
       "      <td>1203985.0</td>\n",
       "      <td>199696.0</td>\n",
       "      <td>5571.0</td>\n",
       "    </tr>\n",
       "    <tr>\n",
       "      <th>2072</th>\n",
       "      <td>2</td>\n",
       "      <td>1227691.0</td>\n",
       "      <td>203736.0</td>\n",
       "      <td>5738.0</td>\n",
       "    </tr>\n",
       "    <tr>\n",
       "      <th>2098</th>\n",
       "      <td>3</td>\n",
       "      <td>1255756.0</td>\n",
       "      <td>208823.0</td>\n",
       "      <td>5903.0</td>\n",
       "    </tr>\n",
       "    <tr>\n",
       "      <th>2124</th>\n",
       "      <td>4</td>\n",
       "      <td>1282478.0</td>\n",
       "      <td>214788.0</td>\n",
       "      <td>6109.0</td>\n",
       "    </tr>\n",
       "  </tbody>\n",
       "</table>\n",
       "</div>"
      ],
      "text/plain": [
       "      date  total_tests  confirmed  deaths\n",
       "2020     0    1191956.0   196515.0  5465.0\n",
       "2046     1    1203985.0   199696.0  5571.0\n",
       "2072     2    1227691.0   203736.0  5738.0\n",
       "2098     3    1255756.0   208823.0  5903.0\n",
       "2124     4    1282478.0   214788.0  6109.0"
      ]
     },
     "execution_count": 20,
     "metadata": {},
     "output_type": "execute_result"
    }
   ],
   "source": [
    "data_peru.head()"
   ]
  },
  {
   "cell_type": "code",
   "execution_count": 21,
   "metadata": {},
   "outputs": [],
   "source": [
    "### ==================== Peru\n",
    "crecimiento_decesos_peru = np.ones(len(data_peru))\n",
    "crecimiento_decesos_peru[0] = 1\n",
    "for i in range(1,len(data_peru)):\n",
    "    if(data_peru.iloc[i-1,3]):\n",
    "        crecimiento_decesos_peru[i] = data_peru.iloc[i,3] / data_peru.iloc[i-1,3]\n",
    "data_peru['tasa_deaths'] = crecimiento_decesos_peru\n",
    "\n",
    "crecimiento_confirmados_peru = np.ones(len(data_peru))\n",
    "crecimiento_confirmados_peru[0] = 1\n",
    "for i in range(1,len(data_peru)):\n",
    "    if(data_peru.iloc[i-1,2]):\n",
    "        crecimiento_confirmados_peru[i] = data_peru.iloc[i,2] / data_peru.iloc[i-1,2]\n",
    "data_peru['tasa_confirmed'] = crecimiento_confirmados_peru\n",
    "\n",
    "\n",
    "### ======================= Arequipa\n",
    "crecimiento_decesos_aqp = np.ones(len(data_aqp))\n",
    "crecimiento_decesos_aqp[0] = 1\n",
    "for i in range(1,len(data_aqp)):\n",
    "    if(data_aqp.iloc[i-1,3]):\n",
    "        crecimiento_decesos_aqp[i] = data_aqp.iloc[i,3] / data_aqp.iloc[i-1,3]\n",
    "data_aqp['tasa_deaths'] = crecimiento_decesos_aqp\n",
    "\n",
    "crecimiento_confirmados_aqp = np.ones(len(data_aqp))\n",
    "crecimiento_confirmados_aqp[0] = 1\n",
    "for i in range(1,len(data_aqp)):\n",
    "    if(data_aqp.iloc[i-1,2]):\n",
    "        crecimiento_confirmados_aqp[i] = data_aqp.iloc[i,2] / data_aqp.iloc[i-1,2]\n",
    "data_aqp['tasa_confirmed'] = crecimiento_confirmados_aqp"
   ]
  },
  {
   "cell_type": "markdown",
   "metadata": {},
   "source": [
    "Reordenar los datos de tal forma que dejen las columnas a predecir para el final yquitar los tests para estos datos"
   ]
  },
  {
   "cell_type": "code",
   "execution_count": 22,
   "metadata": {},
   "outputs": [],
   "source": [
    "columns_titles = [\"date\", \"tasa_deaths\", \"tasa_confirmed\", \"confirmed\",\"deaths\"]\n",
    "data_peru = data_peru.reindex(columns=columns_titles)\n",
    "data_aqp = data_aqp.reindex(columns=columns_titles)"
   ]
  },
  {
   "cell_type": "code",
   "execution_count": 23,
   "metadata": {},
   "outputs": [
    {
     "data": {
      "text/plain": [
       "<matplotlib.legend.Legend at 0x99dc6b7f40>"
      ]
     },
     "execution_count": 23,
     "metadata": {},
     "output_type": "execute_result"
    },
    {
     "data": {
      "image/png": "[encoded data removed]",
      "text/plain": [
       "<Figure size 1080x720 with 4 Axes>"
      ]
     },
     "metadata": {
      "needs_background": "light"
     },
     "output_type": "display_data"
    }
   ],
   "source": [
    "#plotear casos confirmados \n",
    "fig, ax = plt.subplots(2, 2, figsize=(15,10))\n",
    "ax[0][0].plot(crecimiento_decesos_peru, label='Tasa predicha')\n",
    "ax[0][0].set_title(\"Tasa de los decesos / Dia - Perú\")\n",
    "ax[0][0].set_ylabel('Tasa de los decesos')\n",
    "ax[0][0].set_xlabel('Dias')\n",
    "ax[0][0].legend()\n",
    "\n",
    "ax[0][1].plot(crecimiento_confirmados_peru, label='Tasa predicha')\n",
    "ax[0][1].set_title(\"Tasa de los casos confirmados / Dia - Perú\")\n",
    "ax[0][1].set_ylabel('Tasa de los casos confirmados')\n",
    "ax[0][1].set_xlabel('Dias')\n",
    "ax[0][1].legend()\n",
    "\n",
    "ax[1][0].plot(crecimiento_decesos_aqp, label='Tasa predicha')\n",
    "ax[1][0].set_title(\"Tasa de los decesos / Dia - Aqp\")\n",
    "ax[1][0].set_ylabel('Tasa de los decesos')\n",
    "ax[1][0].set_xlabel('Dias')\n",
    "ax[1][0].legend()\n",
    "\n",
    "ax[1][1].plot(crecimiento_decesos_aqp, label='Tasa predicha')\n",
    "ax[1][1].set_title(\"Tasa de los casos confirmados / Dia - Aqp\")\n",
    "ax[1][1].set_ylabel('Tasa de los casos confirmados')\n",
    "ax[1][1].set_xlabel('Dias')\n",
    "ax[1][1].legend()"
   ]
  },
  {
   "cell_type": "code",
   "execution_count": 24,
   "metadata": {},
   "outputs": [
    {
     "data": {
      "text/html": [
       "<div>\n",
       "<style scoped>\n",
       "    .dataframe tbody tr th:only-of-type {\n",
       "        vertical-align: middle;\n",
       "    }\n",
       "\n",
       "    .dataframe tbody tr th {\n",
       "        vertical-align: top;\n",
       "    }\n",
       "\n",
       "    .dataframe thead th {\n",
       "        text-align: right;\n",
       "    }\n",
       "</style>\n",
       "<table border=\"1\" class=\"dataframe\">\n",
       "  <thead>\n",
       "    <tr style=\"text-align: right;\">\n",
       "      <th></th>\n",
       "      <th>date</th>\n",
       "      <th>tasa_deaths</th>\n",
       "      <th>tasa_confirmed</th>\n",
       "      <th>confirmed</th>\n",
       "      <th>deaths</th>\n",
       "    </tr>\n",
       "  </thead>\n",
       "  <tbody>\n",
       "    <tr>\n",
       "      <th>2020</th>\n",
       "      <td>0</td>\n",
       "      <td>1.000000</td>\n",
       "      <td>1.000000</td>\n",
       "      <td>196515.0</td>\n",
       "      <td>5465.0</td>\n",
       "    </tr>\n",
       "    <tr>\n",
       "      <th>2046</th>\n",
       "      <td>1</td>\n",
       "      <td>1.019396</td>\n",
       "      <td>1.016187</td>\n",
       "      <td>199696.0</td>\n",
       "      <td>5571.0</td>\n",
       "    </tr>\n",
       "    <tr>\n",
       "      <th>2072</th>\n",
       "      <td>2</td>\n",
       "      <td>1.029977</td>\n",
       "      <td>1.020231</td>\n",
       "      <td>203736.0</td>\n",
       "      <td>5738.0</td>\n",
       "    </tr>\n",
       "    <tr>\n",
       "      <th>2098</th>\n",
       "      <td>3</td>\n",
       "      <td>1.028756</td>\n",
       "      <td>1.024969</td>\n",
       "      <td>208823.0</td>\n",
       "      <td>5903.0</td>\n",
       "    </tr>\n",
       "    <tr>\n",
       "      <th>2124</th>\n",
       "      <td>4</td>\n",
       "      <td>1.034898</td>\n",
       "      <td>1.028565</td>\n",
       "      <td>214788.0</td>\n",
       "      <td>6109.0</td>\n",
       "    </tr>\n",
       "  </tbody>\n",
       "</table>\n",
       "</div>"
      ],
      "text/plain": [
       "      date  tasa_deaths  tasa_confirmed  confirmed  deaths\n",
       "2020     0     1.000000        1.000000   196515.0  5465.0\n",
       "2046     1     1.019396        1.016187   199696.0  5571.0\n",
       "2072     2     1.029977        1.020231   203736.0  5738.0\n",
       "2098     3     1.028756        1.024969   208823.0  5903.0\n",
       "2124     4     1.034898        1.028565   214788.0  6109.0"
      ]
     },
     "execution_count": 24,
     "metadata": {},
     "output_type": "execute_result"
    }
   ],
   "source": [
    "data_peru.head()"
   ]
  },
  {
   "cell_type": "markdown",
   "metadata": {},
   "source": [
    "# Preparar los datos para la regresión multivariada\n",
    "\n",
    "Para realizar este proceso seguimos los siguientes pasos:\n",
    "<ol>\n",
    "    <li>Normalizar los datos</li>\n",
    "    <li>Dividir los datos en conjuntos de entrenamiento y prueba</li>\n",
    "    <li>Dividir los datos en conjunto de datos de casos confirmados y conjunto de datos de decesos y realizar el resto de pasos</li>\n",
    "</ol>"
   ]
  },
  {
   "cell_type": "markdown",
   "metadata": {},
   "source": [
    "### 1. Normalizar los datos"
   ]
  },
  {
   "cell_type": "code",
   "execution_count": 25,
   "metadata": {},
   "outputs": [],
   "source": [
    "def Normalizar_Datos( data ):\n",
    "    mean = np.nanmean(data, axis=0)\n",
    "    standard = np.nanstd(data, axis=0)\n",
    "    #print (mean, standard)\n",
    "    data = (data - mean)/standard\n",
    "    return data, mean, standard"
   ]
  },
  {
   "cell_type": "code",
   "execution_count": 26,
   "metadata": {
    "scrolled": true
   },
   "outputs": [],
   "source": [
    "data_peru2, mean_peru, standard_peru = Normalizar_Datos(data_peru)\n",
    "data_aqp2, mean_aqp, standard_aqp = Normalizar_Datos(data_aqp)\n",
    "data_peru_testCovid2, mean_peru_testCovid, standard_peru_testCovid = Normalizar_Datos(data_peru_testCovid)\n",
    "data_aqp_testCovid2, mean_aqp_testCovid, standard_aqp_testCovid = Normalizar_Datos(data_aqp_testCovid)"
   ]
  },
  {
   "cell_type": "markdown",
   "metadata": {},
   "source": [
    "### 2. Dividir los datos en conjuntos de entrenamiento y prueba\n",
    "\n",
    "El conjunto de datos de entrenamiento fue generado usando un 80% del conjunto de datos total (equivalente al ranfo entre  <b>13/03/2020</b> y <b>29/08/2020</b>), y se mantuvo la secuencialidad por lo que no se realizó ningun intercambio de posiciones (shuffle=False)."
   ]
  },
  {
   "cell_type": "code",
   "execution_count": 27,
   "metadata": {
    "scrolled": true
   },
   "outputs": [],
   "source": [
    "from sklearn.model_selection import train_test_split\n",
    "\n",
    "train_peru, test_peru = train_test_split(data_peru2, test_size=0.2, shuffle=False)\n",
    "train_aqp, test_aqp = train_test_split(data_aqp2, test_size=0.2, shuffle=False)\n",
    "train_peru_testCovid, test_peru_testCovid = train_test_split(data_peru_testCovid2, test_size=0.2, shuffle=False)\n",
    "train_aqp_testCovid, test_aqp_testCovid = train_test_split(data_aqp_testCovid2, test_size=0.2, shuffle=False)"
   ]
  },
  {
   "cell_type": "markdown",
   "metadata": {},
   "source": [
    "Función usada para preparar los datos, recibe los datos de entrenamiento y prueba (con data frames que incluyen los casos confirmados y los decesos) para asi ser divididos por confirmado y deceso, luego divididos por aquellos datos que seran usados como entrada y como salida y finalmente, se le agregarán unos a los datos de entrada (a manera de bias) para que estén listos para el entrenamiento."
   ]
  },
  {
   "cell_type": "code",
   "execution_count": 28,
   "metadata": {},
   "outputs": [],
   "source": [
    "def preparar_datos(train_decesos_data, test_decesos_data, train_confirmados_data, test_confirmados_data):\n",
    "    #======Dividir el input del output\n",
    "    #decesos\n",
    "    train_decesos_data_X = train_decesos_data.iloc[:,0:-1]\n",
    "    train_decesos_data_y = train_decesos_data.iloc[:,-1:]\n",
    "    test_decesos_data_X = test_decesos_data.iloc[:,0:-1]\n",
    "    test_decesos_data_y = test_decesos_data.iloc[:,-1:]\n",
    "    #confirmados\n",
    "    train_confirmados_data_X = train_confirmados_data.iloc[:,0:-1]\n",
    "    train_confirmados_data_y = train_confirmados_data.iloc[:,-1:]\n",
    "    test_confirmados_data_X = test_confirmados_data.iloc[:,0:-1]\n",
    "    test_confirmados_data_y = test_confirmados_data.iloc[:,-1:]\n",
    "\n",
    "    #======Agregar una columna de unos al conjunto de entrenamiento y al conjunto de prueba\n",
    "    #decesos\n",
    "    num_elements_decesos_train = len(train_decesos_data_y)\n",
    "    num_elements_decesos_test = len(test_decesos_data_y)\n",
    "\n",
    "    train_decesos_data_X = np.concatenate((np.ones([num_elements_decesos_train, 1]), train_decesos_data_X), axis=1)\n",
    "    test_decesos_data_X = np.concatenate((np.ones([num_elements_decesos_test, 1]), test_decesos_data_X), axis=1)\n",
    "\n",
    "    #confirmados\n",
    "    num_elements_confrimados_train = len(train_confirmados_data_y)\n",
    "    num_elements_confrimados_test = len(test_confirmados_data_y)\n",
    "\n",
    "    train_confirmados_data_X = np.concatenate((np.ones([num_elements_confrimados_train, 1]), train_confirmados_data_X), axis=1)\n",
    "    test_confirmados_data_X = np.concatenate((np.ones([num_elements_confrimados_test, 1]), test_confirmados_data_X), axis=1)\n",
    "\n",
    "    return train_decesos_data_X, train_decesos_data_y, test_decesos_data_X, test_decesos_data_y, train_confirmados_data_X, train_confirmados_data_y, test_confirmados_data_X, test_confirmados_data_y"
   ]
  },
  {
   "cell_type": "markdown",
   "metadata": {},
   "source": [
    "### 3. Dividir los datos en conjunto de datos de casos confirmados y conjunto de datos de decesos y realizar el resto de pasos"
   ]
  },
  {
   "cell_type": "markdown",
   "metadata": {},
   "source": [
    "Para hacer todo el proceso seguimos los siguientes pasos en cada conjunto de datos:\n",
    "    <ol>\n",
    "    <li>Dividir los conjuntos de casos confirmados de los casos de decesos</li>\n",
    "    <li>Dividir el input del output y los casos confirmados de los decesos</li>\n",
    "    <li>Dividir los datos en conjunto de datos de casos confirmados y conjunto de datos de decesos y realizar el resto de pasosAgregar una columna de unos al conjunto de entrenamiento y al conjunto de prueba</li>\n",
    "</ol>"
   ]
  },
  {
   "cell_type": "markdown",
   "metadata": {},
   "source": [
    "Datos de Perú"
   ]
  },
  {
   "cell_type": "code",
   "execution_count": 29,
   "metadata": {},
   "outputs": [],
   "source": [
    "#======Dividir los conjuntos de casos confirmados de los casos de decesos\n",
    "train_confirmados_peru = train_peru.copy()\n",
    "test_confirmados_peru = test_peru.copy()\n",
    "train_decesos_peru = train_peru.copy()\n",
    "test_decesos_peru = test_peru.copy()\n",
    "\n",
    "#decesos\n",
    "columns_titles = [\"date\", \"tasa_deaths\",\"deaths\"]\n",
    "train_decesos_peru = train_decesos_peru.reindex(columns=columns_titles)\n",
    "test_decesos_peru = test_decesos_peru.reindex(columns=columns_titles)\n",
    "\n",
    "#confirmados\n",
    "columns_titles = [\"date\", \"tasa_confirmed\", \"confirmed\"]\n",
    "train_confirmados_peru = train_confirmados_peru.reindex(columns=columns_titles)\n",
    "test_confirmados_peru = test_confirmados_peru.reindex(columns=columns_titles)\n",
    "\n",
    "train_decesos_peru_X, train_decesos_peru_y, test_decesos_peru_X, test_decesos_peru_y, train_confirmados_peru_X, train_confirmados_peru_y, test_confirmados_peru_X, test_confirmados_peru_y = preparar_datos(train_decesos_peru, test_decesos_peru, train_confirmados_peru, test_confirmados_peru)"
   ]
  },
  {
   "cell_type": "markdown",
   "metadata": {},
   "source": [
    "Datos de Arequipa"
   ]
  },
  {
   "cell_type": "code",
   "execution_count": 30,
   "metadata": {},
   "outputs": [],
   "source": [
    "#======Dividir los conjuntos de casos confirmados de los casos de decesos\n",
    "train_confirmados_aqp = train_aqp.copy()\n",
    "test_confirmados_aqp = test_aqp.copy()\n",
    "train_decesos_aqp = train_aqp.copy()\n",
    "test_decesos_aqp = test_aqp.copy()\n",
    "\n",
    "#decesos\n",
    "columns_titles = [\"date\", \"tasa_deaths\",\"deaths\"]\n",
    "train_decesos_aqp = train_decesos_aqp.reindex(columns=columns_titles)\n",
    "test_decesos_aqp = test_decesos_aqp.reindex(columns=columns_titles)\n",
    "\n",
    "#confirmados\n",
    "columns_titles = [\"date\", \"tasa_confirmed\", \"confirmed\"]\n",
    "train_confirmados_aqp = train_confirmados_aqp.reindex(columns=columns_titles)\n",
    "test_confirmados_aqp = test_confirmados_aqp.reindex(columns=columns_titles)\n",
    "\n",
    "train_decesos_aqp_X, train_decesos_aqp_y, test_decesos_aqp_X, test_decesos_aqp_y, train_confirmados_aqp_X, train_confirmados_aqp_y, test_confirmados_aqp_X, test_confirmados_aqp_y = preparar_datos(train_decesos_aqp, test_decesos_aqp, train_confirmados_aqp, test_confirmados_aqp)"
   ]
  },
  {
   "cell_type": "markdown",
   "metadata": {},
   "source": [
    "Datos de Peru con tests de covid"
   ]
  },
  {
   "cell_type": "code",
   "execution_count": 31,
   "metadata": {},
   "outputs": [],
   "source": [
    "#======Dividir los conjuntos de casos confirmados de los casos de decesos\n",
    "train_confirmados_testCovid = train_peru_testCovid.copy()\n",
    "test_confirmados_testCovid = test_peru_testCovid.copy()\n",
    "train_decesos_testCovid = train_peru_testCovid.copy()\n",
    "test_decesos_testCovid = test_peru_testCovid.copy()\n",
    "\n",
    "#decesos\n",
    "train_decesos_testCovid = train_decesos_testCovid.drop(['confirmed'], axis=1)\n",
    "test_decesos_testCovid = test_decesos_testCovid.drop(['confirmed'], axis=1)\n",
    "#confirmados\n",
    "train_confirmados_testCovid = train_confirmados_testCovid.drop(['deaths'], axis=1)\n",
    "test_confirmados_testCovid = test_confirmados_testCovid.drop(['deaths'], axis=1)\n",
    "\n",
    "train_decesos_peru_testCovid_X, train_decesos_peru_testCovid_y, test_decesos_peru_testCovid_X, test_decesos_peru_testCovid_y, train_confirmados_peru_testCovid_X, train_confirmados_peru_testCovid_y, test_confirmados_peru_testCovid_X, test_confirmados_peru_testCovid_y = preparar_datos(train_decesos_testCovid, test_decesos_testCovid, train_confirmados_testCovid, test_confirmados_testCovid)"
   ]
  },
  {
   "cell_type": "markdown",
   "metadata": {},
   "source": [
    "Datos de Arequipa con tests de covid"
   ]
  },
  {
   "cell_type": "code",
   "execution_count": 32,
   "metadata": {},
   "outputs": [],
   "source": [
    "#======Dividir los conjuntos de casos confirmados de los casos de decesos\n",
    "train_confirmados_testCovid_aqp = train_aqp_testCovid.copy()\n",
    "test_confirmados_testCovid_aqp = test_aqp_testCovid.copy()\n",
    "train_decesos_testCovid_aqp = train_aqp_testCovid.copy()\n",
    "test_decesos_testCovid_aqp = test_aqp_testCovid.copy()\n",
    "\n",
    "#decesos\n",
    "train_decesos_testCovid_aqp = train_decesos_testCovid_aqp.drop(['confirmed'], axis=1)\n",
    "test_decesos_testCovid_aqp = test_decesos_testCovid_aqp.drop(['confirmed'], axis=1)\n",
    "#confirmados\n",
    "train_confirmados_testCovid_aqp = train_confirmados_testCovid_aqp.drop(['deaths'], axis=1)\n",
    "test_confirmados_testCovid_aqp = test_confirmados_testCovid_aqp.drop(['deaths'], axis=1)\n",
    "\n",
    "train_decesos_aqp_testCovid_X, train_decesos_aqp_testCovid_y, test_decesos_aqp_testCovid_X, test_decesos_aqp_testCovid_y, train_confirmados_aqp_testCovid_X, train_confirmados_aqp_testCovid_y, test_confirmados_aqp_testCovid_X, test_confirmados_aqp_testCovid_y = preparar_datos(train_decesos_testCovid_aqp, test_decesos_testCovid_aqp, train_confirmados_testCovid_aqp, test_confirmados_testCovid_aqp)"
   ]
  },
  {
   "cell_type": "markdown",
   "metadata": {},
   "source": [
    "# Modelo de regresor lineal"
   ]
  },
  {
   "cell_type": "markdown",
   "metadata": {},
   "source": [
    "Funciones que forman parte del regresor lineal"
   ]
  },
  {
   "cell_type": "code",
   "execution_count": 33,
   "metadata": {},
   "outputs": [],
   "source": [
    "#importamos los errores que emplearemos\n",
    "from sklearn.metrics import mean_squared_error\n",
    "from sklearn.metrics import r2_score\n",
    "from math import sqrt\n",
    "\n",
    "def calcular_errores(y, pred):\n",
    "    print ('r2 score', r2_score(y, pred))\n",
    "    print ('MSE', mean_squared_error(y, pred))\n",
    "    print ('RMSE', sqrt(mean_squared_error(y, pred)))\n",
    "    \n",
    "def calcular_Costo(X, Y, Theta):\n",
    "    m = len(X)\n",
    "    cost = np.sum((X.dot(Theta.T) - Y)**2) / (2 * m)\n",
    "    return cost\n",
    "\n",
    "def predict(X, theta):\n",
    "    return X.dot(theta.T)\n",
    "\n",
    "def gradiente_Descendiente(X, Y, theta, iteraciones, tasa):\n",
    "    costos = [0]*iteraciones\n",
    "    m = len(X)\n",
    "    for itr in range(iteraciones):\n",
    "        h = predict(X, theta)\n",
    "        dif = h - Y\n",
    "        derivada = (X.T).dot(dif) / m\n",
    "        theta = theta - (tasa * derivada).T\n",
    "        \n",
    "        costos[itr] = calcular_Costo(X, Y, theta)\n",
    "    return theta, costos"
   ]
  },
  {
   "cell_type": "markdown",
   "metadata": {},
   "source": [
    "## Probando los datos en el modelo de regresor lineal\n",
    "Realizamos las siguiente pruebas:\n",
    "<ul>\n",
    "    <li>Prueba número 1: Entrenar y testear con el conjunto de datos de Perú</li>\n",
    "    <li>Prueba número 2: Entrenar y validar con el conjunto de datos de Arequipa</li>\n",
    "    <li>Prueba número 3: Entrenar y testear con el conjunto de datos de Perú empleando los test de covid totales</li>\n",
    "    <li>Prueba número 4: Entrenar y testear con el conjunto de datos de Arequipa empleando los test de covid totales</li>\n",
    "</ul>"
   ]
  },
  {
   "cell_type": "markdown",
   "metadata": {},
   "source": [
    "### Prueba número 1: Entrenar y testear con el conjunto de datos de Perú\n",
    "\n",
    "Ejecutar el gradiente descendiente para el <b>conjunto de datos de Perú</b>"
   ]
  },
  {
   "cell_type": "markdown",
   "metadata": {},
   "source": [
    "Entrenamiento"
   ]
  },
  {
   "cell_type": "code",
   "execution_count": 34,
   "metadata": {},
   "outputs": [],
   "source": [
    "#train_decesos_peru_X, train_decesos_peru_y, test_decesos_peru_X, test_decesos_peru_y, \n",
    "#train_confirmados_peru_X, train_confirmados_peru_y, test_confirmados_peru_X, test_confirmados_peru_y \n",
    "\n",
    "n_features = train_confirmados_peru_X.shape[1]\n",
    "theta_confirmados_peru = np.zeros(n_features)[np.newaxis]\n",
    "\n",
    "theta_confirmados_peru, costos_confirmados_peru = gradiente_Descendiente(\n",
    "    train_confirmados_peru_X, train_confirmados_peru_y, theta_confirmados_peru, 1000, 0.1\n",
    ")"
   ]
  },
  {
   "cell_type": "code",
   "execution_count": 35,
   "metadata": {},
   "outputs": [
    {
     "name": "stdout",
     "output_type": "stream",
     "text": [
      "[[ 0.00526042  0.99366245 -0.01506634]]\n"
     ]
    },
    {
     "data": {
      "text/plain": [
       "<matplotlib.collections.PathCollection at 0x99e081e9a0>"
      ]
     },
     "execution_count": 35,
     "metadata": {},
     "output_type": "execute_result"
    },
    {
     "data": {
      "image/png": "[encoded data removed]",
      "text/plain": [
       "<Figure size 432x288 with 1 Axes>"
      ]
     },
     "metadata": {
      "needs_background": "light"
     },
     "output_type": "display_data"
    }
   ],
   "source": [
    "print(theta_confirmados_peru)\n",
    "plt.scatter(np.arange(len(costos_confirmados_peru)), costos_confirmados_peru, alpha=0.8, c=\"purple\", s=5)"
   ]
  },
  {
   "cell_type": "code",
   "execution_count": 36,
   "metadata": {},
   "outputs": [],
   "source": [
    "n_features = train_decesos_peru_X.shape[1]\n",
    "theta_decesos_peru = np.zeros(n_features)[np.newaxis]\n",
    "\n",
    "theta_decesos_peru, costos_decesos_peru = gradiente_Descendiente(\n",
    "    train_decesos_peru_X, train_decesos_peru_y, theta_decesos_peru, 1000, 0.1\n",
    ")"
   ]
  },
  {
   "cell_type": "code",
   "execution_count": 37,
   "metadata": {},
   "outputs": [
    {
     "name": "stdout",
     "output_type": "stream",
     "text": [
      "[[0.11098248 1.1435665  0.02063335]]\n"
     ]
    },
    {
     "data": {
      "text/plain": [
       "<matplotlib.collections.PathCollection at 0x99e087bf40>"
      ]
     },
     "execution_count": 37,
     "metadata": {},
     "output_type": "execute_result"
    },
    {
     "data": {
      "image/png": "[encoded data removed]",
      "text/plain": [
       "<Figure size 432x288 with 1 Axes>"
      ]
     },
     "metadata": {
      "needs_background": "light"
     },
     "output_type": "display_data"
    }
   ],
   "source": [
    "print(theta_decesos_peru)\n",
    "plt.scatter(np.arange(len(costos_decesos_peru)), costos_decesos_peru, alpha=0.8, c=\"purple\", s=5)"
   ]
  },
  {
   "cell_type": "markdown",
   "metadata": {},
   "source": [
    "Validación"
   ]
  },
  {
   "cell_type": "code",
   "execution_count": 38,
   "metadata": {},
   "outputs": [],
   "source": [
    "#predecir casos confirmados\n",
    "predict_confirmados_peru = predict( test_confirmados_peru_X ,theta_confirmados_peru)"
   ]
  },
  {
   "cell_type": "code",
   "execution_count": 39,
   "metadata": {},
   "outputs": [],
   "source": [
    "#predecir decesos\n",
    "predict_decesos_peru = predict( test_decesos_peru_X ,theta_decesos_peru)"
   ]
  },
  {
   "cell_type": "code",
   "execution_count": 40,
   "metadata": {},
   "outputs": [
    {
     "data": {
      "text/plain": [
       "<matplotlib.legend.Legend at 0x99e09f5e50>"
      ]
     },
     "execution_count": 40,
     "metadata": {},
     "output_type": "execute_result"
    },
    {
     "data": {
      "image/png": "[encoded data removed]",
      "text/plain": [
       "<Figure size 1080x360 with 2 Axes>"
      ]
     },
     "metadata": {
      "needs_background": "light"
     },
     "output_type": "display_data"
    }
   ],
   "source": [
    "fig, ax = plt.subplots(1, 2, figsize=(15,5))\n",
    "\n",
    "#plotear casos confirmados \n",
    "ax[0].scatter(test_confirmados_peru_X[:,1], test_confirmados_peru_y, alpha=0.7, c=\"red\", label=\"Test\")\n",
    "ax[0].scatter(test_confirmados_peru_X[:,1], predict_confirmados_peru, alpha=1.0, c=\"purple\", label=\"Validación\")\n",
    "ax[0].plot(train_confirmados_peru_X[:,1], train_confirmados_peru_y, \"-o\", label=\"Train\")\n",
    "ax[0].set_title(\"Casos confirmados segun datos confirmados_peru_testCovid_X\")\n",
    "ax[0].set_ylabel('Casos confirmados')\n",
    "ax[0].set_xlabel('Dias')\n",
    "ax[0].legend()\n",
    "\n",
    "#plotear decesos \n",
    "ax[1].scatter(test_decesos_peru_X[:,1], test_decesos_peru_y, alpha=0.7, c=\"red\", label=\"Test\")\n",
    "ax[1].scatter(test_decesos_peru_X[:,1], predict_decesos_peru, alpha=1.0, c=\"purple\", label=\"Validación\")\n",
    "ax[1].plot(train_decesos_peru_X[:,1], train_decesos_peru_y, \"-o\", label=\"Train\")\n",
    "ax[1].set_title(\"Decesos segun datos decesos_peru_testCovid_X\")\n",
    "ax[1].set_ylabel('Decesos')\n",
    "ax[1].set_xlabel('Dias')\n",
    "ax[1].legend()"
   ]
  },
  {
   "cell_type": "code",
   "execution_count": 41,
   "metadata": {},
   "outputs": [
    {
     "name": "stdout",
     "output_type": "stream",
     "text": [
      "r2 score 0.324973452673618\n",
      "MSE 0.00914995336109427\n",
      "RMSE 0.09565538856276874\n"
     ]
    }
   ],
   "source": [
    "#Calcular los errores de validación de los casos confirmados\n",
    "calcular_errores(test_confirmados_peru_y, predict_confirmados_peru)"
   ]
  },
  {
   "cell_type": "code",
   "execution_count": 42,
   "metadata": {},
   "outputs": [
    {
     "name": "stdout",
     "output_type": "stream",
     "text": [
      "r2 score -83.46127643290433\n",
      "MSE 0.32061404218395795\n",
      "RMSE 0.5662279065746918\n"
     ]
    }
   ],
   "source": [
    "#Calcular los errores de validación de los decesos\n",
    "calcular_errores(test_decesos_peru_y, predict_decesos_peru)"
   ]
  },
  {
   "cell_type": "markdown",
   "metadata": {},
   "source": [
    "### Prueba número 2: Entrenar y validar con el conjunto de datos de Arequipa\n",
    "\n",
    "Ejecutar el gradiente descendiente para el <b>conjunto de datos de Arequipa</b>"
   ]
  },
  {
   "cell_type": "markdown",
   "metadata": {},
   "source": [
    "Entrenamiento"
   ]
  },
  {
   "cell_type": "code",
   "execution_count": 43,
   "metadata": {},
   "outputs": [],
   "source": [
    "#train_decesos_peru_X, train_decesos_peru_y, test_decesos_peru_X, test_decesos_peru_y, \n",
    "#train_confirmados_peru_X, train_confirmados_peru_y, test_confirmados_peru_X, test_confirmados_peru_y \n",
    "\n",
    "n_features = train_confirmados_aqp_X.shape[1]\n",
    "theta_confirmados_aqp = np.zeros(n_features)[np.newaxis]\n",
    "\n",
    "theta_confirmados_aqp, costos_confirmados_aqp = gradiente_Descendiente(\n",
    "    train_confirmados_aqp_X, train_confirmados_aqp_y, theta_confirmados_aqp, 1000, 0.1\n",
    ")"
   ]
  },
  {
   "cell_type": "code",
   "execution_count": 44,
   "metadata": {},
   "outputs": [
    {
     "name": "stdout",
     "output_type": "stream",
     "text": [
      "[[ 0.03774247  1.00680786 -0.07227619]]\n"
     ]
    },
    {
     "data": {
      "text/plain": [
       "<matplotlib.collections.PathCollection at 0x99e0c39b50>"
      ]
     },
     "execution_count": 44,
     "metadata": {},
     "output_type": "execute_result"
    },
    {
     "data": {
      "image/png": "[encoded data removed]",
      "text/plain": [
       "<Figure size 432x288 with 1 Axes>"
      ]
     },
     "metadata": {
      "needs_background": "light"
     },
     "output_type": "display_data"
    }
   ],
   "source": [
    "print(theta_confirmados_aqp)\n",
    "plt.scatter(np.arange(len(costos_confirmados_aqp)), costos_confirmados_aqp, alpha=0.8, c=\"purple\", s=5)"
   ]
  },
  {
   "cell_type": "code",
   "execution_count": 45,
   "metadata": {},
   "outputs": [],
   "source": [
    "n_features = train_decesos_aqp_X.shape[1]\n",
    "theta_decesos_aqp = np.zeros(n_features)[np.newaxis]\n",
    "\n",
    "theta_decesos_aqp, costos_decesos_aqp = gradiente_Descendiente(\n",
    "    train_decesos_aqp_X, train_decesos_aqp_y, theta_decesos_aqp, 1000, 0.1\n",
    ")"
   ]
  },
  {
   "cell_type": "code",
   "execution_count": 46,
   "metadata": {},
   "outputs": [
    {
     "name": "stdout",
     "output_type": "stream",
     "text": [
      "[[ 0.1022146   1.12394834 -0.00897158]]\n"
     ]
    },
    {
     "data": {
      "text/plain": [
       "<matplotlib.collections.PathCollection at 0x99e0b65160>"
      ]
     },
     "execution_count": 46,
     "metadata": {},
     "output_type": "execute_result"
    },
    {
     "data": {
      "image/png": "[encoded data removed]",
      "text/plain": [
       "<Figure size 432x288 with 1 Axes>"
      ]
     },
     "metadata": {
      "needs_background": "light"
     },
     "output_type": "display_data"
    }
   ],
   "source": [
    "print(theta_decesos_aqp)\n",
    "plt.scatter(np.arange(len(costos_decesos_aqp)), costos_decesos_aqp, alpha=0.8, c=\"purple\", s=5)"
   ]
  },
  {
   "cell_type": "markdown",
   "metadata": {},
   "source": [
    "Validación"
   ]
  },
  {
   "cell_type": "code",
   "execution_count": 47,
   "metadata": {},
   "outputs": [],
   "source": [
    "#predecir casos confirmados\n",
    "predict_confirmados_aqp = predict( test_confirmados_aqp_X ,theta_confirmados_aqp)"
   ]
  },
  {
   "cell_type": "code",
   "execution_count": 48,
   "metadata": {},
   "outputs": [],
   "source": [
    "#predecir decesos\n",
    "predict_decesos_aqp = predict( test_decesos_aqp_X ,theta_decesos_aqp)"
   ]
  },
  {
   "cell_type": "code",
   "execution_count": 49,
   "metadata": {
    "scrolled": false
   },
   "outputs": [
    {
     "data": {
      "text/plain": [
       "<matplotlib.legend.Legend at 0x99e0bcf940>"
      ]
     },
     "execution_count": 49,
     "metadata": {},
     "output_type": "execute_result"
    },
    {
     "data": {
      "image/png": "[encoded data removed]",
      "text/plain": [
       "<Figure size 1080x360 with 2 Axes>"
      ]
     },
     "metadata": {
      "needs_background": "light"
     },
     "output_type": "display_data"
    }
   ],
   "source": [
    "fig, ax = plt.subplots(1, 2, figsize=(15,5))\n",
    "\n",
    "#plotear casos confirmados \n",
    "ax[0].scatter(test_confirmados_aqp_X[:,1], test_confirmados_aqp_y, alpha=0.7, c=\"red\", label=\"Test\")\n",
    "ax[0].scatter(test_confirmados_aqp_X[:,1], predict_confirmados_aqp, alpha=1.0, c=\"purple\", label=\"Validación\")\n",
    "ax[0].plot(train_confirmados_aqp_X[:,1], train_confirmados_aqp_y, \"-o\", label=\"Train\")\n",
    "ax[0].set_title(\"Casos confirmados segun datos confirmados_aqp\")\n",
    "ax[0].set_ylabel('Casos confirmados')\n",
    "ax[0].set_xlabel('Dias')\n",
    "ax[0].legend()\n",
    "\n",
    "#plotear decesos \n",
    "ax[1].scatter(test_decesos_aqp_X[:,1], test_decesos_aqp_y, alpha=0.7, c=\"red\", label=\"Test\")\n",
    "ax[1].scatter(test_decesos_aqp_X[:,1], predict_decesos_aqp, alpha=1.0, c=\"purple\", label=\"Validación\")\n",
    "ax[1].plot(train_decesos_aqp_X[:,1], train_decesos_aqp_y, \"-o\", label=\"Train\")\n",
    "ax[1].set_title(\"Decesos segun datos decesos_aqp\")\n",
    "ax[1].set_ylabel('Decesos')\n",
    "ax[1].set_xlabel('Dias')\n",
    "ax[1].legend()"
   ]
  },
  {
   "cell_type": "code",
   "execution_count": 50,
   "metadata": {},
   "outputs": [
    {
     "name": "stdout",
     "output_type": "stream",
     "text": [
      "r2 score -16.142243290178165\n",
      "MSE 0.05869393827718544\n",
      "RMSE 0.2422683187649294\n"
     ]
    }
   ],
   "source": [
    "#Calcular los errores de validación de los casos confirmados\n",
    "calcular_errores(test_confirmados_aqp_y, predict_confirmados_aqp)"
   ]
  },
  {
   "cell_type": "code",
   "execution_count": 51,
   "metadata": {},
   "outputs": [
    {
     "name": "stdout",
     "output_type": "stream",
     "text": [
      "r2 score -64.33547867076793\n",
      "MSE 0.2864711489058049\n",
      "RMSE 0.5352299962687115\n"
     ]
    }
   ],
   "source": [
    "#Calcular los errores de validación de los decesos\n",
    "calcular_errores(test_decesos_aqp_y, predict_decesos_aqp)"
   ]
  },
  {
   "cell_type": "markdown",
   "metadata": {
    "slideshow": {
     "slide_type": "-"
    }
   },
   "source": [
    "### Prueba número 3: Entrenar y testear con el conjunto de datos de Perú empleando los test de covid totales\n",
    "\n",
    "Ejecutar el gradiente descendiente para el <b>conjunto de datos de Perú con los tests de covid totales</b>"
   ]
  },
  {
   "cell_type": "markdown",
   "metadata": {},
   "source": [
    "Entrenamiento"
   ]
  },
  {
   "cell_type": "code",
   "execution_count": 53,
   "metadata": {},
   "outputs": [],
   "source": [
    "n_features = train_confirmados_peru_testCovid_X.shape[1]\n",
    "theta_confirmados_peru_testCovid = np.zeros(n_features)[np.newaxis]\n",
    "\n",
    "theta_confirmados_peru_testCovid, costos_confirmados_peru_testCovid = gradiente_Descendiente(\n",
    "    train_confirmados_peru_testCovid_X, train_confirmados_peru_testCovid_y, theta_confirmados_peru_testCovid, 1000, 0.1\n",
    ")\n"
   ]
  },
  {
   "cell_type": "code",
   "execution_count": 54,
   "metadata": {},
   "outputs": [
    {
     "name": "stdout",
     "output_type": "stream",
     "text": [
      "[[-0.00760203  0.24289621  0.74429408]]\n"
     ]
    },
    {
     "data": {
      "text/plain": [
       "<matplotlib.collections.PathCollection at 0x79c26af580>"
      ]
     },
     "execution_count": 54,
     "metadata": {},
     "output_type": "execute_result"
    },
    {
     "data": {
      "image/png": "[encoded data removed]",
      "text/plain": [
       "<Figure size 432x288 with 1 Axes>"
      ]
     },
     "metadata": {
      "needs_background": "light"
     },
     "output_type": "display_data"
    }
   ],
   "source": [
    "print(theta_confirmados_peru_testCovid)\n",
    "plt.scatter(np.arange(len(costos_confirmados_peru_testCovid)), costos_confirmados_peru_testCovid, alpha=0.8, c=\"purple\", s=5)"
   ]
  },
  {
   "cell_type": "code",
   "execution_count": 55,
   "metadata": {},
   "outputs": [],
   "source": [
    "n_features = train_decesos_peru_testCovid_X.shape[1]\n",
    "theta_decesos_peru_testCovid = np.zeros(n_features)[np.newaxis]\n",
    "\n",
    "theta_decesos_peru_testCovid, costos_decesos_peru_testCovid = gradiente_Descendiente(\n",
    "    train_decesos_peru_testCovid_X, train_decesos_peru_testCovid_y, theta_decesos_peru_testCovid, 1000, 0.1\n",
    ")"
   ]
  },
  {
   "cell_type": "code",
   "execution_count": 56,
   "metadata": {},
   "outputs": [
    {
     "name": "stdout",
     "output_type": "stream",
     "text": [
      "[[0.10045481 0.55587781 0.56814473]]\n"
     ]
    },
    {
     "data": {
      "text/plain": [
       "<matplotlib.collections.PathCollection at 0x79c3100940>"
      ]
     },
     "execution_count": 56,
     "metadata": {},
     "output_type": "execute_result"
    },
    {
     "data": {
      "image/png": "[encoded data removed]",
      "text/plain": [
       "<Figure size 432x288 with 1 Axes>"
      ]
     },
     "metadata": {
      "needs_background": "light"
     },
     "output_type": "display_data"
    }
   ],
   "source": [
    "print(theta_decesos_peru_testCovid)\n",
    "plt.scatter(np.arange(len(costos_decesos_peru_testCovid)), costos_decesos_peru_testCovid, alpha=0.8, c=\"purple\", s=5)"
   ]
  },
  {
   "cell_type": "markdown",
   "metadata": {},
   "source": [
    "Validación"
   ]
  },
  {
   "cell_type": "code",
   "execution_count": 57,
   "metadata": {},
   "outputs": [],
   "source": [
    "#predecir casos confirmados\n",
    "predict_confirmados_peru_testCovid = predict( test_confirmados_peru_testCovid_X ,theta_confirmados_peru_testCovid)"
   ]
  },
  {
   "cell_type": "code",
   "execution_count": 58,
   "metadata": {},
   "outputs": [],
   "source": [
    "#predecir decesos\n",
    "predict_decesos_peru_testCovid = predict( test_decesos_peru_testCovid_X ,theta_decesos_peru_testCovid)"
   ]
  },
  {
   "cell_type": "code",
   "execution_count": 59,
   "metadata": {},
   "outputs": [
    {
     "data": {
      "text/plain": [
       "<matplotlib.legend.Legend at 0x79c31461c0>"
      ]
     },
     "execution_count": 59,
     "metadata": {},
     "output_type": "execute_result"
    },
    {
     "data": {
      "image/png": "[encoded data removed]",
      "text/plain": [
       "<Figure size 1080x360 with 2 Axes>"
      ]
     },
     "metadata": {
      "needs_background": "light"
     },
     "output_type": "display_data"
    }
   ],
   "source": [
    "fig, ax = plt.subplots(1, 2, figsize=(15,5))\n",
    "\n",
    "#plotear casos confirmados \n",
    "ax[0].scatter(test_confirmados_peru_testCovid_X[:,1], test_confirmados_peru_testCovid_y, alpha=0.7, c=\"red\", label=\"Test\")\n",
    "ax[0].scatter(test_confirmados_peru_testCovid_X[:,1], predict_confirmados_peru_testCovid, alpha=1.0, c=\"purple\", label=\"Validación\")\n",
    "ax[0].plot(train_confirmados_peru_testCovid_X[:,1], train_confirmados_peru_testCovid_y, \"-o\", label=\"Train\")\n",
    "ax[0].set_title(\"Casos confirmados segun datos confirmados_peru_testCovid_X\")\n",
    "ax[0].set_ylabel('Casos confirmados')\n",
    "ax[0].set_xlabel('Dias')\n",
    "ax[0].legend()\n",
    "\n",
    "#plotear decesos \n",
    "ax[1].scatter(test_decesos_peru_testCovid_X[:,1], test_decesos_peru_testCovid_y, alpha=0.7, c=\"red\", label=\"Test\")\n",
    "ax[1].scatter(test_decesos_peru_testCovid_X[:,1], predict_decesos_peru_testCovid, alpha=1.0, c=\"purple\", label=\"Validación\")\n",
    "ax[1].plot(train_decesos_peru_testCovid_X[:,1], train_decesos_peru_testCovid_y, \"-o\", label=\"Train\")\n",
    "ax[1].set_title(\"Decesos segun datos decesos_peru_testCovid_X\")\n",
    "ax[1].set_ylabel('Decesos')\n",
    "ax[1].set_xlabel('Dias')\n",
    "ax[1].legend()"
   ]
  },
  {
   "cell_type": "code",
   "execution_count": 60,
   "metadata": {},
   "outputs": [
    {
     "name": "stdout",
     "output_type": "stream",
     "text": [
      "r2 score 0.7827303004382233\n",
      "MSE 0.0032712380611650193\n",
      "RMSE 0.057194738054868466\n"
     ]
    }
   ],
   "source": [
    "#Calcular los errores de validación de los casos confirmados\n",
    "print ('r2 score', r2_score(test_confirmados_peru_testCovid_y, predict_confirmados_peru_testCovid))\n",
    "print ('MSE', mean_squared_error(test_confirmados_peru_testCovid_y, predict_confirmados_peru_testCovid))\n",
    "print ('RMSE', sqrt(mean_squared_error(test_confirmados_peru_testCovid_y, predict_confirmados_peru_testCovid)))"
   ]
  },
  {
   "cell_type": "code",
   "execution_count": 61,
   "metadata": {},
   "outputs": [
    {
     "name": "stdout",
     "output_type": "stream",
     "text": [
      "r2 score -61.60119002359784\n",
      "MSE 0.2629715501640366\n",
      "RMSE 0.5128075176555397\n"
     ]
    }
   ],
   "source": [
    "#Calcular los errores de validación de los decesos\n",
    "print ('r2 score', r2_score(test_decesos_peru_testCovid_y, predict_decesos_peru_testCovid))\n",
    "print ('MSE', mean_squared_error(test_decesos_peru_testCovid_y, predict_decesos_peru_testCovid))\n",
    "print ('RMSE', sqrt(mean_squared_error(test_decesos_peru_testCovid_y, predict_decesos_peru_testCovid)))"
   ]
  },
  {
   "cell_type": "markdown",
   "metadata": {},
   "source": [
    "Se puede observar que el método del regresor lineal con este segundo conjunto de datos tiene un mejor performance, por lo que emplearemos este para la predicción de las muertes y casos confirmados de Covid en el Perú."
   ]
  },
  {
   "cell_type": "markdown",
   "metadata": {
    "slideshow": {
     "slide_type": "-"
    }
   },
   "source": [
    "### Prueba número 4: Entrenar y testear con el conjunto de datos de Arequipa empleando los test de covid totales\n",
    "\n",
    "Ejecutar el gradiente descendiente para el <b>conjunto de datos de Arequipa con los tests de covid totales</b>"
   ]
  },
  {
   "cell_type": "markdown",
   "metadata": {},
   "source": [
    "Entrenamiento"
   ]
  },
  {
   "cell_type": "code",
   "execution_count": 62,
   "metadata": {},
   "outputs": [],
   "source": [
    "n_features = train_confirmados_aqp_testCovid_X.shape[1]\n",
    "theta_confirmados_aqp_testCovid = np.zeros(n_features)[np.newaxis]\n",
    "\n",
    "theta_confirmados_aqp_testCovid, costos_confirmados_aqp_testCovid = gradiente_Descendiente(\n",
    "    train_confirmados_aqp_testCovid_X, train_confirmados_aqp_testCovid_y, theta_confirmados_aqp_testCovid, 1000, 0.1\n",
    ")\n"
   ]
  },
  {
   "cell_type": "code",
   "execution_count": 63,
   "metadata": {},
   "outputs": [
    {
     "name": "stdout",
     "output_type": "stream",
     "text": [
      "[[-0.00271152  0.11134231  0.87697409]]\n"
     ]
    },
    {
     "data": {
      "text/plain": [
       "<matplotlib.collections.PathCollection at 0x79c360a250>"
      ]
     },
     "execution_count": 63,
     "metadata": {},
     "output_type": "execute_result"
    },
    {
     "data": {
      "image/png": "[encoded data removed]",
      "text/plain": [
       "<Figure size 432x288 with 1 Axes>"
      ]
     },
     "metadata": {
      "needs_background": "light"
     },
     "output_type": "display_data"
    }
   ],
   "source": [
    "print(theta_confirmados_aqp_testCovid)\n",
    "plt.scatter(np.arange(len(costos_confirmados_aqp_testCovid)), costos_confirmados_aqp_testCovid, alpha=0.8, c=\"purple\", s=5)"
   ]
  },
  {
   "cell_type": "code",
   "execution_count": 64,
   "metadata": {},
   "outputs": [],
   "source": [
    "n_features = train_decesos_aqp_testCovid_X.shape[1]\n",
    "theta_decesos_aqp_testCovid = np.zeros(n_features)[np.newaxis]\n",
    "\n",
    "theta_decesos_aqp_testCovid, costos_decesos_aqp_testCovid = gradiente_Descendiente(\n",
    "    train_decesos_aqp_testCovid_X, train_decesos_aqp_testCovid_y, theta_decesos_aqp_testCovid, 1000, 0.1\n",
    ")"
   ]
  },
  {
   "cell_type": "code",
   "execution_count": 65,
   "metadata": {},
   "outputs": [
    {
     "name": "stdout",
     "output_type": "stream",
     "text": [
      "[[0.09585507 0.97740265 0.14399419]]\n"
     ]
    },
    {
     "data": {
      "text/plain": [
       "<matplotlib.collections.PathCollection at 0x79c3382a00>"
      ]
     },
     "execution_count": 65,
     "metadata": {},
     "output_type": "execute_result"
    },
    {
     "data": {
      "image/png": "[encoded data removed]",
      "text/plain": [
       "<Figure size 432x288 with 1 Axes>"
      ]
     },
     "metadata": {
      "needs_background": "light"
     },
     "output_type": "display_data"
    }
   ],
   "source": [
    "print(theta_decesos_aqp_testCovid)\n",
    "plt.scatter(np.arange(len(costos_decesos_aqp_testCovid)), costos_decesos_aqp_testCovid, alpha=0.8, c=\"purple\", s=5)"
   ]
  },
  {
   "cell_type": "markdown",
   "metadata": {},
   "source": [
    "Validación"
   ]
  },
  {
   "cell_type": "code",
   "execution_count": 66,
   "metadata": {},
   "outputs": [],
   "source": [
    "#predecir casos confirmados\n",
    "predict_confirmados_aqp_testCovid = predict( test_confirmados_aqp_testCovid_X ,theta_confirmados_aqp_testCovid)"
   ]
  },
  {
   "cell_type": "code",
   "execution_count": 67,
   "metadata": {},
   "outputs": [],
   "source": [
    "#predecir decesos\n",
    "predict_decesos_aqp_testCovid = predict( test_decesos_aqp_testCovid_X ,theta_decesos_aqp_testCovid)"
   ]
  },
  {
   "cell_type": "code",
   "execution_count": 68,
   "metadata": {
    "scrolled": true
   },
   "outputs": [
    {
     "data": {
      "text/plain": [
       "<matplotlib.legend.Legend at 0x79c2ca7070>"
      ]
     },
     "execution_count": 68,
     "metadata": {},
     "output_type": "execute_result"
    },
    {
     "data": {
      "image/png": "[encoded data removed]",
      "text/plain": [
       "<Figure size 1080x360 with 2 Axes>"
      ]
     },
     "metadata": {
      "needs_background": "light"
     },
     "output_type": "display_data"
    }
   ],
   "source": [
    "fig, ax = plt.subplots(1, 2, figsize=(15,5))\n",
    "\n",
    "#plotear casos confirmados \n",
    "ax[0].scatter(test_confirmados_aqp_testCovid_X[:,1], test_confirmados_aqp_testCovid_y, alpha=0.7, c=\"red\", label=\"Test\")\n",
    "ax[0].scatter(test_confirmados_aqp_testCovid_X[:,1], predict_confirmados_aqp_testCovid, alpha=1.0, c=\"purple\", label=\"Validación\")\n",
    "ax[0].plot(train_confirmados_aqp_testCovid_X[:,1], train_confirmados_aqp_testCovid_y, \"-o\", label=\"Train\")\n",
    "ax[0].set_title(\"Casos confirmados segun datos confirmados_aqp_testCovid_X\")\n",
    "ax[0].set_ylabel('Casos confirmados')\n",
    "ax[0].set_xlabel('Dias')\n",
    "ax[0].legend()\n",
    "\n",
    "#plotear decesos \n",
    "ax[1].scatter(test_decesos_aqp_testCovid_X[:,1], test_decesos_aqp_testCovid_y, alpha=0.7, c=\"red\", label=\"Test\")\n",
    "ax[1].scatter(test_decesos_aqp_testCovid_X[:,1], predict_decesos_aqp_testCovid, alpha=1.0, c=\"purple\", label=\"Validación\")\n",
    "ax[1].plot(train_decesos_aqp_testCovid_X[:,1], train_decesos_aqp_testCovid_y, \"-o\", label=\"Train\")\n",
    "ax[1].set_title(\"Decesos segun datos decesos_aqp_testCovid_X\")\n",
    "ax[1].set_ylabel('Decesos')\n",
    "ax[1].set_xlabel('Dias')\n",
    "ax[1].legend()"
   ]
  },
  {
   "cell_type": "code",
   "execution_count": 69,
   "metadata": {},
   "outputs": [
    {
     "name": "stdout",
     "output_type": "stream",
     "text": [
      "r2 score 0.32603827183912515\n",
      "MSE 0.003872212095873341\n",
      "RMSE 0.06222710097596819\n"
     ]
    }
   ],
   "source": [
    "#Calcular los errores de validación de los casos confirmados\n",
    "calcular_errores(test_confirmados_aqp_testCovid_y, predict_confirmados_aqp_testCovid)"
   ]
  },
  {
   "cell_type": "code",
   "execution_count": 70,
   "metadata": {},
   "outputs": [
    {
     "name": "stdout",
     "output_type": "stream",
     "text": [
      "r2 score -46.02072474407087\n",
      "MSE 0.24135799875041009\n",
      "RMSE 0.49128199514170073\n"
     ]
    }
   ],
   "source": [
    "#Calcular los errores de validación de los casos confirmados\n",
    "calcular_errores(test_decesos_aqp_testCovid_y, predict_decesos_aqp_testCovid)"
   ]
  },
  {
   "cell_type": "markdown",
   "metadata": {},
   "source": [
    "All igual que en el anterior caso, se puede observar que el método del regresor lineal con este segundo conjunto de datos de Arequipa tiene un mejor performance por sobre el conjunto de datos sin los tests positivos, por lo que emplearemos este para la predicción de las muertes y casos confirmados de Covid en Arequipa."
   ]
  },
  {
   "cell_type": "markdown",
   "metadata": {},
   "source": [
    "# Predicción"
   ]
  },
  {
   "cell_type": "markdown",
   "metadata": {},
   "source": [
    "Para realizar la predicción realizaremos los siguientes pasos:\n",
    "<ol>\n",
    "    <li>Generaremos el conjunto de datos como entrada para el predictor</li>\n",
    "    <li>Predecimos los datos y ploteamos</li>\n",
    "    <li>Recuperar el valor real de la predicción</li>\n",
    "</ol>"
   ]
  },
  {
   "cell_type": "markdown",
   "metadata": {},
   "source": [
    "### 1. Generaremos el conjunto de datos como entrada para el predictor"
   ]
  },
  {
   "cell_type": "markdown",
   "metadata": {},
   "source": [
    "Calcular los proximos 10 dias"
   ]
  },
  {
   "cell_type": "code",
   "execution_count": 119,
   "metadata": {
    "scrolled": true
   },
   "outputs": [],
   "source": [
    "#ultimo dia es el 17 de octubre del 2020\n",
    "octubre_17 = data_peru_testCovid.iloc[-1,0]\n",
    "octubre_19 = octubre_17 + 2\n",
    "octubre_29 = octubre_19 + 10\n",
    "\n",
    "new_dates = np.array(range(octubre_19, octubre_29))\n",
    "size_future_data = len(new_dates)"
   ]
  },
  {
   "cell_type": "markdown",
   "metadata": {},
   "source": [
    "Calcular el promedio de la tasa de crecimiento de los tests, de tal manera que esa tasa sea usada para predecir futuros tests."
   ]
  },
  {
   "cell_type": "markdown",
   "metadata": {},
   "source": [
    "<b>Datos para predecir en Perú</b>"
   ]
  },
  {
   "cell_type": "code",
   "execution_count": 120,
   "metadata": {},
   "outputs": [
    {
     "data": {
      "text/plain": [
       "1.00383468695384"
      ]
     },
     "execution_count": 120,
     "metadata": {},
     "output_type": "execute_result"
    }
   ],
   "source": [
    "future_crecimiento_peru = np.mean(crecimiento_tests_peru[-10])\n",
    "future_crecimiento_peru"
   ]
  },
  {
   "cell_type": "code",
   "execution_count": 121,
   "metadata": {},
   "outputs": [
    {
     "name": "stdout",
     "output_type": "stream",
     "text": [
      "[4222501.11599671 4238693.0859388  4254947.14701678 4271263.53733072\n",
      " 4287642.49589374 4304084.26263547 4320589.07840563 4337157.18497749\n",
      " 4353788.82505148 4370484.24225868]\n"
     ]
    }
   ],
   "source": [
    "future_tests_peru = np.ones(size_future_data)\n",
    "\n",
    "future_tests_peru[0] = data_peru_testCovid.iloc[-1,1] * future_crecimiento_peru\n",
    "for i in range(1, size_future_data):\n",
    "    future_tests_peru[i] = future_tests_peru[i-1] * future_crecimiento_peru  \n",
    "print(future_tests_peru)"
   ]
  },
  {
   "cell_type": "code",
   "execution_count": 122,
   "metadata": {},
   "outputs": [],
   "source": [
    "future_data_peru = pd.DataFrame({'date': new_dates, 'total_tests': future_tests_peru})"
   ]
  },
  {
   "cell_type": "code",
   "execution_count": 123,
   "metadata": {},
   "outputs": [],
   "source": [
    "#normalizar\n",
    "mean = mean_peru_testCovid[:-2]\n",
    "standard = standard_peru_testCovid[:-2]\n",
    "future_data_peru = (future_data_peru - mean)/standard"
   ]
  },
  {
   "cell_type": "code",
   "execution_count": 124,
   "metadata": {},
   "outputs": [],
   "source": [
    "#agregar unos\n",
    "future_data_peru = np.concatenate((np.ones([size_future_data, 1]), future_data_peru), axis=1)"
   ]
  },
  {
   "cell_type": "markdown",
   "metadata": {},
   "source": [
    "<b>Datos para predecir en Arequipa</b>"
   ]
  },
  {
   "cell_type": "code",
   "execution_count": 125,
   "metadata": {},
   "outputs": [
    {
     "data": {
      "text/plain": [
       "1.0023980401628596"
      ]
     },
     "execution_count": 125,
     "metadata": {},
     "output_type": "execute_result"
    }
   ],
   "source": [
    "future_crecimiento_aqp = np.mean(crecimiento_tests_aqp[-10])\n",
    "future_crecimiento_aqp"
   ]
  },
  {
   "cell_type": "code",
   "execution_count": 126,
   "metadata": {},
   "outputs": [
    {
     "name": "stdout",
     "output_type": "stream",
     "text": [
      "[242594.35929197 243176.11030884 243759.25638801 244343.8008749\n",
      " 244929.74712294 245517.09849362 246105.85835648 246696.03008913\n",
      " 247287.6170773  247880.62271483]\n"
     ]
    }
   ],
   "source": [
    "future_tests_aqp = np.ones(size_future_data)\n",
    "\n",
    "future_tests_aqp[0] = data_aqp_testCovid.iloc[-1,1] * future_crecimiento_aqp\n",
    "for i in range(1, size_future_data):\n",
    "    future_tests_aqp[i] = future_tests_aqp[i-1] * future_crecimiento_aqp\n",
    "print(future_tests_aqp)"
   ]
  },
  {
   "cell_type": "code",
   "execution_count": 127,
   "metadata": {},
   "outputs": [],
   "source": [
    "future_data_aqp = pd.DataFrame({'date': new_dates, 'total_tests': future_tests_aqp})"
   ]
  },
  {
   "cell_type": "code",
   "execution_count": 128,
   "metadata": {},
   "outputs": [],
   "source": [
    "#normalizar\n",
    "mean = mean_aqp_testCovid[:-2]\n",
    "standard = standard_aqp_testCovid[:-2]\n",
    "future_data_aqp = (future_data_aqp - mean)/standard"
   ]
  },
  {
   "cell_type": "code",
   "execution_count": 129,
   "metadata": {},
   "outputs": [],
   "source": [
    "#agregar unos\n",
    "future_data_aqp = np.concatenate((np.ones([size_future_data, 1]), future_data_aqp), axis=1)"
   ]
  },
  {
   "cell_type": "markdown",
   "metadata": {},
   "source": [
    "### 2. Predecimos los datos y ploteamos"
   ]
  },
  {
   "cell_type": "markdown",
   "metadata": {},
   "source": [
    "Predicción en Perú"
   ]
  },
  {
   "cell_type": "code",
   "execution_count": 130,
   "metadata": {},
   "outputs": [],
   "source": [
    "#predecir casos confirmados\n",
    "predict_confirmados_peru_future = predict( future_data_peru ,theta_confirmados_peru_testCovid)"
   ]
  },
  {
   "cell_type": "code",
   "execution_count": 131,
   "metadata": {},
   "outputs": [],
   "source": [
    "#predecir decesos\n",
    "predict_decesos_peru_future = predict( future_data_peru ,theta_decesos_peru_testCovid)"
   ]
  },
  {
   "cell_type": "code",
   "execution_count": 132,
   "metadata": {},
   "outputs": [
    {
     "data": {
      "text/plain": [
       "<matplotlib.legend.Legend at 0x79c5743490>"
      ]
     },
     "execution_count": 132,
     "metadata": {},
     "output_type": "execute_result"
    },
    {
     "data": {
      "image/png": "[encoded data removed]",
      "text/plain": [
       "<Figure size 1080x360 with 2 Axes>"
      ]
     },
     "metadata": {
      "needs_background": "light"
     },
     "output_type": "display_data"
    }
   ],
   "source": [
    "fig, ax = plt.subplots(1, 2, figsize=(15,5))\n",
    "\n",
    "#plotear casos confirmados \n",
    "ax[0].scatter(test_confirmados_peru_testCovid_X[:,1], test_confirmados_peru_testCovid_y, alpha=0.7, c=\"red\", label=\"Datos Hitoricos\")\n",
    "ax[0].scatter(future_data_peru[:,1], predict_confirmados_peru_future, alpha=1.0, c=\"purple\", label=\"Datos Hitoricos\")\n",
    "ax[0].plot(train_confirmados_peru_testCovid_X[:,1], train_confirmados_peru_testCovid_y, \"-o\", label=\"Datos predecidos del 19/09/2020 al 29/09/2020\")\n",
    "ax[0].set_title(\"Casos confirmados predecidos en Perú\")\n",
    "ax[0].set_ylabel('Casos confirmados')\n",
    "ax[0].set_xlabel('Dias')\n",
    "ax[0].legend()\n",
    "\n",
    "#plotear decesos \n",
    "ax[1].scatter(test_decesos_peru_testCovid_X[:,1], test_decesos_peru_testCovid_y, alpha=0.7, c=\"red\", label=\"Datos Hitoricos\")\n",
    "ax[1].scatter(future_data_peru[:,1], predict_decesos_peru_future, alpha=1.0, c=\"purple\", label=\"Datos Hitoricos\")\n",
    "ax[1].plot(train_decesos_peru_testCovid_X[:,1], train_decesos_peru_testCovid_y, \"-o\", label=\"Datos predecidos del 19/09/2020 al 29/09/2020\")\n",
    "ax[1].set_title(\"Decesos predecidos en Perú\")\n",
    "ax[1].set_ylabel('Decesos')\n",
    "ax[1].set_xlabel('Dias')\n",
    "ax[1].legend()"
   ]
  },
  {
   "cell_type": "markdown",
   "metadata": {},
   "source": [
    "Predicción en Arequipa"
   ]
  },
  {
   "cell_type": "code",
   "execution_count": 133,
   "metadata": {},
   "outputs": [],
   "source": [
    "#predecir casos confirmados\n",
    "predict_confirmados_aqp_future = predict( future_data_aqp ,theta_confirmados_aqp_testCovid)"
   ]
  },
  {
   "cell_type": "code",
   "execution_count": 134,
   "metadata": {},
   "outputs": [],
   "source": [
    "#predecir decesos\n",
    "predict_decesos_aqp_future = predict( future_data_aqp ,theta_decesos_aqp_testCovid)"
   ]
  },
  {
   "cell_type": "code",
   "execution_count": 135,
   "metadata": {
    "scrolled": true
   },
   "outputs": [
    {
     "data": {
      "text/plain": [
       "<matplotlib.legend.Legend at 0x79c5ae3190>"
      ]
     },
     "execution_count": 135,
     "metadata": {},
     "output_type": "execute_result"
    },
    {
     "data": {
      "image/png": "[encoded data removed]",
      "text/plain": [
       "<Figure size 1080x360 with 2 Axes>"
      ]
     },
     "metadata": {
      "needs_background": "light"
     },
     "output_type": "display_data"
    }
   ],
   "source": [
    "fig, ax = plt.subplots(1, 2, figsize=(15,5))\n",
    "\n",
    "#plotear casos confirmados \n",
    "ax[0].scatter(test_confirmados_aqp_testCovid_X[:,1], test_confirmados_aqp_testCovid_y, alpha=0.7, c=\"red\", label=\"Datos Hitoricos\")\n",
    "ax[0].scatter(future_data_aqp[:,1], predict_confirmados_aqp_future, alpha=1.0, c=\"purple\", label=\"Datos Hitoricos\")\n",
    "ax[0].plot(train_confirmados_aqp_testCovid_X[:,1], train_confirmados_aqp_testCovid_y, \"-o\", label=\"Datos predecidos del 19/09/2020 al 29/09/2020\")\n",
    "ax[0].set_title(\"Casos confirmados predecidos en Arequipa\")\n",
    "ax[0].set_ylabel('Casos confirmados')\n",
    "ax[0].set_xlabel('Dias')\n",
    "ax[0].legend()\n",
    "\n",
    "#plotear decesos \n",
    "ax[1].scatter(test_decesos_aqp_testCovid_X[:,1], test_decesos_aqp_testCovid_y, alpha=0.7, c=\"red\", label=\"Datos Hitoricos\")\n",
    "ax[1].scatter(future_data_aqp[:,1], predict_decesos_aqp_future, alpha=1.0, c=\"purple\", label=\"Datos Hitoricos\")\n",
    "ax[1].plot(train_decesos_aqp_testCovid_X[:,1], train_decesos_aqp_testCovid_y, \"-o\", label=\"Datos predecidos del 19/09/2020 al 29/09/2020\")\n",
    "ax[1].set_title(\"Decesos predecidos en Arequipa\")\n",
    "ax[1].set_ylabel('Decesos')\n",
    "ax[1].set_xlabel('Dias')\n",
    "ax[1].legend()"
   ]
  },
  {
   "cell_type": "markdown",
   "metadata": {},
   "source": [
    "### 3. Recuperar el valor real de la predicción"
   ]
  },
  {
   "cell_type": "code",
   "execution_count": 136,
   "metadata": {},
   "outputs": [],
   "source": [
    "#=====PERU\n",
    "#normalizar confirmados\n",
    "mean = mean_peru_testCovid[2]\n",
    "standard = standard_peru_testCovid[2]\n",
    "predict_confirmados_peru_future = predict_confirmados_peru_future * standard + mean\n",
    "\n",
    "#normalizar decesos\n",
    "mean = mean_peru_testCovid[3]\n",
    "standard = standard_peru_testCovid[3]\n",
    "predict_decesos_peru_future = predict_decesos_peru_future * standard + mean"
   ]
  },
  {
   "cell_type": "code",
   "execution_count": 137,
   "metadata": {},
   "outputs": [],
   "source": [
    "#=====Arequipa\n",
    "#normalizar confirmados\n",
    "mean = mean_aqp_testCovid[2]\n",
    "standard = standard_aqp_testCovid[2]\n",
    "predict_confirmados_aqp_future = predict_confirmados_aqp_future * standard + mean\n",
    "\n",
    "#normalizar decesos\n",
    "mean = mean_aqp_testCovid[3]\n",
    "standard = standard_aqp_testCovid[3]\n",
    "predict_decesos_aqp_future = predict_decesos_aqp_future * standard + mean"
   ]
  },
  {
   "cell_type": "markdown",
   "metadata": {},
   "source": [
    "# Resultados Perú"
   ]
  },
  {
   "cell_type": "markdown",
   "metadata": {},
   "source": [
    "Los casos confirmados en Perú entre las fechas <b>19/09/2020</b> y <b>29/09/2020</b> son:"
   ]
  },
  {
   "cell_type": "code",
   "execution_count": 138,
   "metadata": {},
   "outputs": [
    {
     "name": "stdout",
     "output_type": "stream",
     "text": [
      "[[884937. 889178. 893430. 897693. 901967. 906252. 910549. 914857. 919175.\n",
      "  923506.]]\n"
     ]
    }
   ],
   "source": [
    "np.set_printoptions(suppress=True)\n",
    "print(np.round(predict_confirmados_peru_future.T))"
   ]
  },
  {
   "cell_type": "markdown",
   "metadata": {},
   "source": [
    "Los decesos en Perú entre las fechas <b>19/09/2020</b> y <b>29/09/2020</b> son:"
   ]
  },
  {
   "cell_type": "code",
   "execution_count": 139,
   "metadata": {
    "scrolled": true
   },
   "outputs": [
    {
     "name": "stdout",
     "output_type": "stream",
     "text": [
      "[[41282. 41520. 41759. 41999. 42239. 42479. 42719. 42960. 43202. 43443.]]\n"
     ]
    }
   ],
   "source": [
    "np.set_printoptions(suppress=True)\n",
    "print(np.round(predict_decesos_peru_future.T))"
   ]
  },
  {
   "cell_type": "markdown",
   "metadata": {},
   "source": [
    "# Resultados Arequipa"
   ]
  },
  {
   "cell_type": "markdown",
   "metadata": {},
   "source": [
    "Los casos confirmados en Arequipa entre las fechas <b>19/09/2020</b> y <b>29/09/2020</b> son:"
   ]
  },
  {
   "cell_type": "code",
   "execution_count": 140,
   "metadata": {},
   "outputs": [
    {
     "name": "stdout",
     "output_type": "stream",
     "text": [
      "[[45410. 45584. 45759. 45933. 46109. 46284. 46460. 46636. 46813. 46989.]]\n"
     ]
    }
   ],
   "source": [
    "np.set_printoptions(suppress=True)\n",
    "print(np.round(predict_confirmados_aqp_future.T))"
   ]
  },
  {
   "cell_type": "markdown",
   "metadata": {},
   "source": [
    "Los decesos en Arequipa entre las fechas <b>19/09/2020</b> y <b>29/09/2020</b> son:"
   ]
  },
  {
   "cell_type": "code",
   "execution_count": 141,
   "metadata": {
    "scrolled": false
   },
   "outputs": [
    {
     "name": "stdout",
     "output_type": "stream",
     "text": [
      "[[1783. 1795. 1808. 1820. 1832. 1845. 1857. 1869. 1882. 1894.]]\n"
     ]
    }
   ],
   "source": [
    "np.set_printoptions(suppress=True)\n",
    "print(np.round(predict_decesos_aqp_future.T))"
   ]
  }
 ],
 "metadata": {
  "kernelspec": {
   "display_name": "Python 3",
   "language": "python",
   "name": "python3"
  },
  "language_info": {
   "codemirror_mode": {
    "name": "ipython",
    "version": 3
   },
   "file_extension": ".py",
   "mimetype": "text/x-python",
   "name": "python",
   "nbconvert_exporter": "python",
   "pygments_lexer": "ipython3",
   "version": "3.8.3"
  }
 },
 "nbformat": 4,
 "nbformat_minor": 4
}
